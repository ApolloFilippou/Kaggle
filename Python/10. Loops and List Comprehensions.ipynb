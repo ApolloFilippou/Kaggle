{
  "cells": [
    {
      "metadata": {
        "_uuid": "0833e92a24f3492d2f94e1bf7b3346f41855bcac"
      },
      "cell_type": "markdown",
      "source": "These exercises accompany the tutorial on [loops and list comprehensions](https://www.kaggle.com/colinmorris/loops-and-list-comprehensions).\n\nAs always, run the setup code below before working on the questions (and if you leave this notebook and come back later, remember to run the setup code again)."
    },
    {
      "metadata": {
        "_uuid": "3a9ef377411cb3e84d3405575ca1d4fc814c937a",
        "trusted": true
      },
      "cell_type": "code",
      "source": "# SETUP. You don't need to worry for now about what this code does or how it works. If you're ever curious about the \n# code behind these exercises, it's available under an open source license here: https://github.com/Kaggle/learntools/\nfrom learntools.core import binder; binder.bind(globals())\nfrom learntools.python.ex5 import *\nprint('Setup complete.')",
      "execution_count": 1,
      "outputs": [
        {
          "output_type": "stream",
          "text": "Setup complete.\n",
          "name": "stdout"
        }
      ]
    },
    {
      "metadata": {
        "_uuid": "a5fb9f88889b9c9a0c427f7877e80994b10fe578"
      },
      "cell_type": "markdown",
      "source": "# Exercises"
    },
    {
      "metadata": {
        "_uuid": "f4e90093653e4d2728531bfd41c4a5b0e35f7ce2"
      },
      "cell_type": "markdown",
      "source": "## 1.\n\nHave you ever felt debugging involved a bit of luck? The following program has a bug. Try to identify the bug and fix it."
    },
    {
      "metadata": {
        "collapsed": true,
        "_uuid": "ed162afc87ca097c3decc1e4dd5cdb895801a96e",
        "trusted": true
      },
      "cell_type": "code",
      "source": "def has_lucky_number(nums):\n    \"\"\"Return whether the given list of numbers is lucky. A lucky list contains\n    at least one number divisible by 7.\n    \"\"\"\n    for num in nums:\n        if num % 7 == 0:\n            return True\n        else:\n            return False",
      "execution_count": null,
      "outputs": []
    },
    {
      "metadata": {
        "_uuid": "a4e62c6f1cee61b59591f69759bab119ebd30c48"
      },
      "cell_type": "markdown",
      "source": "Try to identify the bug and fix it in the cell below:"
    },
    {
      "metadata": {
        "_uuid": "478ba19b0e7ca54de39dd5f3d05386a95f26aaa1",
        "trusted": true,
        "collapsed": true
      },
      "cell_type": "code",
      "source": "def has_lucky_number(nums):\n    \"\"\"Return whether the given list of numbers is lucky. A lucky list contains\n    at least one number divisible by 7.\n    \"\"\"\n    for num in nums:\n        if num % 7 == 0:\n            return True\n    return False\nq1.check()",
      "execution_count": null,
      "outputs": []
    },
    {
      "metadata": {
        "collapsed": true,
        "_uuid": "fc105ab6c30f932130987883a0ad5db89e2aeb4d",
        "trusted": false
      },
      "cell_type": "code",
      "source": "#q1.hint()\n#q1.solution()",
      "execution_count": null,
      "outputs": []
    },
    {
      "metadata": {
        "_uuid": "19a0d2604525452035cfd40027028df45cfc9d79"
      },
      "cell_type": "markdown",
      "source": "## 2.\n\n### a.\nLook at the Python expression below. What do you think we'll get when we run it? When you've made your prediction, uncomment the code and run the cell to see if you were right."
    },
    {
      "metadata": {
        "_uuid": "248b9fd37e57d95db7b98201763577e76ebaa7f4",
        "trusted": true,
        "collapsed": true
      },
      "cell_type": "code",
      "source": "[1, 2, 3, 4] > 2",
      "execution_count": null,
      "outputs": []
    },
    {
      "metadata": {
        "_uuid": "7a76461c7cf13638d3d4c07a48a95d00d50a5b1a"
      },
      "cell_type": "markdown",
      "source": "### b\nIf you’ve used R or certain Python libraries like numpy or pandas, you might have expected that when we ran the above code, Python would compare each element of the list to 2 (i.e. do an 'element-wise' comparison) and give us a list of booleans like `[False, False, True, True]`. \n\nImplement a function that reproduces this behaviour, returning a list of booleans corresponding to whether the corresponding element is greater than n.\n"
    },
    {
      "metadata": {
        "_uuid": "472cede154a53859610dec4bf716a26d7d2939a5",
        "trusted": true,
        "collapsed": true
      },
      "cell_type": "code",
      "source": "def elementwise_greater_than(L, thresh):\n    \"\"\"Return a list with the same length as L, where the value at index i is \n    True if L[i] is greater than thresh, and False otherwise.\n    \n    >>> elementwise_greater_than([1, 2, 3, 4], 2)\n    [False, False, True, True]\n    \"\"\"\n    return [x>thresh for x in L]\n\nq2.check()",
      "execution_count": null,
      "outputs": []
    },
    {
      "metadata": {
        "collapsed": true,
        "_uuid": "16285a0a6f4f905c383d0aa216c9eb463bca444a",
        "trusted": false
      },
      "cell_type": "code",
      "source": "#q2.solution()",
      "execution_count": null,
      "outputs": []
    },
    {
      "metadata": {
        "_uuid": "2be1acf6cd010e6110b0d006e1b735963245a354"
      },
      "cell_type": "markdown",
      "source": "## 3.\n\nComplete the body of the function below according to its docstring"
    },
    {
      "metadata": {
        "_uuid": "9fae152d45efbaec02d6a8ffcf6e323c04794435",
        "trusted": true,
        "collapsed": true
      },
      "cell_type": "code",
      "source": "def menu_is_boring(meals):\n    \"\"\"Given a list of meals served over some period of time, return True if the\n    same meal has ever been served two days in a row, and False otherwise.\n    \"\"\"\n    for i in range(len(meals)-1):\n        if meals[i]==meals[i+1]:\n            return True\n    return False\n\nq3.check()",
      "execution_count": null,
      "outputs": []
    },
    {
      "metadata": {
        "collapsed": true,
        "_uuid": "6ecf90944e740514359e485b3c1d7641bcf6b295",
        "trusted": false
      },
      "cell_type": "code",
      "source": "#q3.hint()\n#q3.solution()",
      "execution_count": null,
      "outputs": []
    },
    {
      "metadata": {
        "_uuid": "e2ee773972c143b536560937102596de6435d2cf"
      },
      "cell_type": "markdown",
      "source": "## 4. <span title=\"A bit spicy\" style=\"color: darkgreen \">🌶️</span>\n\nNext to the Blackjack table, the Python Challenge Casino has a slot machine. You can get a result from the slot machine by calling `play_slot_machine()`. The number it returns is your winnings in dollars. Usually it returns 0.  But sometimes you'll get lucky and get a big payday. Try running it below:"
    },
    {
      "metadata": {
        "_uuid": "0a53acd9883528f377172403e863d2697f1083e4",
        "trusted": true,
        "collapsed": true
      },
      "cell_type": "code",
      "source": "play_slot_machine()",
      "execution_count": null,
      "outputs": []
    },
    {
      "metadata": {
        "_uuid": "8a9002cc1cfe75bc97c9b6fd0a1c518f66ca4e4d"
      },
      "cell_type": "markdown",
      "source": "By the way, did we mention that each play costs $1? Don't worry, we'll send you the bill later.\n\nOn average, how much money can you expect to gain (or lose) every time you play the machine?  The casino keeps it a secret, but you can estimate the average value of each pull using a technique called the **Monte Carlo method**. To estimate the average outcome, we simulate the scenario many times, and return the average result.\n\nComplete the following function to calculate the average value per play of the slot machine."
    },
    {
      "metadata": {
        "_uuid": "cc64594d212a1bfa713a8b7dbf05268a188bd0a8",
        "trusted": true
      },
      "cell_type": "code",
      "source": "def estimate_average_slot_payout(n_runs):\n    \"\"\"Run the slot machine n_runs times and return the average net profit per run.\n    Example calls (note that return value is nondeterministic!):\n    >>> estimate_average_slot_payout(1)\n    -1\n    >>> estimate_average_slot_payout(1)\n    0.5\n    \"\"\"\n    return sum([play_slot_machine()-1 for i in range(n_runs)])/n_runs\nprint(estimate_average_slot_payout(1000000))",
      "execution_count": 3,
      "outputs": [
        {
          "output_type": "stream",
          "text": "0.0251695\n",
          "name": "stdout"
        }
      ]
    },
    {
      "metadata": {
        "_uuid": "e28d65f475d8a0fdac29eff8a81186ae88283e1f"
      },
      "cell_type": "markdown",
      "source": "When you think you know the expected value per spin, uncomment the line below to see how close you were."
    },
    {
      "metadata": {
        "_uuid": "f343e210008337772ef6a40e2bb29f509f7a0ce4",
        "trusted": true,
        "collapsed": true
      },
      "cell_type": "code",
      "source": "#q4.solution()",
      "execution_count": null,
      "outputs": []
    },
    {
      "metadata": {
        "_uuid": "4aeee6bdc71a7217e89828ac28b764d9033909f9"
      },
      "cell_type": "markdown",
      "source": "## 5. <span title=\"Spicy\" style=\"color: coral\">🌶️🌶️</span>\n\nGary wants to know how many spins he can play before running out of money. (Remember, each turn at the slot machine costs $1.)\n\nSo, if he has $10, he can definitely play 10 spins (because he'll have enough money to pay for the 10th spin even if he never wins). But he could only play an 11th spin if his total winnings from the first 10 was enough to pay for the 11th spin. How likely is that?\n\nYou will estimate the probability with the Monte Carlo method. That is, you will simulate the scenario many times, and return the proportion of simulations where he ran out of money before a desired number of spins. \n\nComplete the function below to estimate the probability that he can complete a given number of spins of the machine before running out of money."
    },
    {
      "metadata": {
        "_uuid": "89c896daf4e9967470e8eb4e682ef0d0b07c9af6",
        "trusted": true
      },
      "cell_type": "code",
      "source": "def slots_survival_probability(start_balance, n_spins, n_simulations):\n    \"\"\"Return the approximate probability (as a number between 0 and 1) that we can complete the \n    given number of spins of the slot machine before running out of money, assuming we start \n    with the given balance. Estimate the probability by running the scenario the specified number of times.\n    \n    >>> slots_survival_probability(10.00, 10, 1000)\n    1.0\n    >>> slots_survival_probability(1.00, 2, 1000)\n    .25\n    \"\"\"\n    total = 0\n    for _ in range(n_simulations):\n        balance = start_balance\n        spin = 0\n        while balance>=1 and spin<n_spins:\n            spin += 1\n            balance += play_slot_machine()-1\n        if spin==n_spins:\n            total += 1\n    return total/n_simulations\nprint(slots_survival_probability(10,10,1000))\nq5.check()",
      "execution_count": 4,
      "outputs": [
        {
          "output_type": "stream",
          "text": "1.0\n",
          "name": "stdout"
        },
        {
          "output_type": "display_data",
          "data": {
            "text/plain": "Correct",
            "text/markdown": "<span style=\"color:#33cc33\">Correct</span>"
          },
          "metadata": {}
        }
      ]
    },
    {
      "metadata": {
        "collapsed": true,
        "_uuid": "4276d64b0c6a9283bca4b6ada446f3d30ab5adce",
        "trusted": false
      },
      "cell_type": "code",
      "source": "#q5.solution()",
      "execution_count": null,
      "outputs": []
    },
    {
      "metadata": {
        "_uuid": "1f8356a9f64c99450106a565b40d65515321e764"
      },
      "cell_type": "markdown",
      "source": "If you have any questions, be sure to post them on the [forums](https://www.kaggle.com/learn-forum).\n\nRemember that your notebook is private by default, and in order to share it with other people or ask for help with it, you'll need to make it public. First, you'll need to save a version of your notebook that shows your current work by hitting the \"Commit & Run\" button. (Your work is saved automatically, but versioning your work lets you go back and look at what it was like at the point you saved it. It also let's you share a nice compiled notebook instead of just the raw code.) Then, once your notebook is finished running, you can go to the Settings tab in the panel to the left (you may have to expand it by hitting the [<] button next to the \"Commit & Run\" button) and setting the \"Visibility\" dropdown to \"Public\".\n\n# Keep Going\n\nWhen you're ready to continue, [click here](https://www.kaggle.com/colinmorris/strings-and-dictionaries) to continue on to the next tutorial on strings and dictionaries."
    }
  ],
  "metadata": {
    "kernelspec": {
      "display_name": "Python 3",
      "language": "python",
      "name": "python3"
    },
    "language_info": {
      "name": "python",
      "version": "3.6.6",
      "mimetype": "text/x-python",
      "codemirror_mode": {
        "name": "ipython",
        "version": 3
      },
      "pygments_lexer": "ipython3",
      "nbconvert_exporter": "python",
      "file_extension": ".py"
    },
    "learntools_metadata": {
      "lesson_index": 4,
      "type": "exercise"
    }
  },
  "nbformat": 4,
  "nbformat_minor": 1
}