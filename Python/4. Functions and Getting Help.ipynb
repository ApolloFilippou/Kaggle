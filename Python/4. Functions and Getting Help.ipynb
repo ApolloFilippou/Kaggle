{
  "cells": [
    {
      "metadata": {
        "_uuid": "b2ceaeda379156555d3e095764f36c1ef33c4841"
      },
      "cell_type": "markdown",
      "source": "These exercises accompany the tutorial on [functions and getting help](https://www.kaggle.com/colinmorris/functions-and-getting-help).\n\nAs before, don't forget to run the setup code below before jumping into question 1."
    },
    {
      "metadata": {
        "_kg_hide-input": true,
        "_kg_hide-output": true,
        "_uuid": "5f4ac692b66647c88067dc123a00b8a130858cec",
        "trusted": true
      },
      "cell_type": "code",
      "source": "# SETUP. You don't need to worry for now about what this code does or how it works. If you're ever curious about the \n# code behind these exercises, it's available under an open source license here: https://github.com/Kaggle/learntools/\nfrom learntools.core import binder; binder.bind(globals())\nfrom learntools.python.ex2 import *\nprint('Setup complete.')",
      "execution_count": 1,
      "outputs": [
        {
          "output_type": "stream",
          "text": "Setup complete.\n",
          "name": "stdout"
        }
      ]
    },
    {
      "metadata": {
        "_uuid": "49a51dd11454a16b83d77ae0842d09234ca021bd"
      },
      "cell_type": "markdown",
      "source": "# Exercises"
    },
    {
      "metadata": {
        "_uuid": "7dd6b3c54ff81113f76303d0e79c82271099900a"
      },
      "cell_type": "markdown",
      "source": "## 1.\n\nComplete the body of the following function according to its docstring.\n\nHINT: Python has a builtin function `round`"
    },
    {
      "metadata": {
        "_uuid": "3b075ad118c1eb63241a84840db68f19e2cff554",
        "trusted": true
      },
      "cell_type": "code",
      "source": "def round_to_two_places(num):\n    \"\"\"Return the given number rounded to two decimal places. \n    \n    >>> round_to_two_places(3.14159)\n    3.14\n    \"\"\"\n    # Replace this body with your own code.\n    # (\"pass\" is a keyword that does literally nothing. We used it as a placeholder\n    # because after we begin a code block, Python requires at least one line of code)\n    return round(num, 2)\n\nq1.check()",
      "execution_count": 2,
      "outputs": [
        {
          "output_type": "display_data",
          "data": {
            "text/plain": "Correct",
            "text/markdown": "<span style=\"color:#33cc33\">Correct</span>"
          },
          "metadata": {}
        }
      ]
    },
    {
      "metadata": {
        "collapsed": true,
        "_uuid": "354cd40670482511da5b9b7b30c401d1406d6846",
        "trusted": false
      },
      "cell_type": "code",
      "source": "# Uncomment the following for a hint\n#q1.hint()\n# Or uncomment the following to peek at the solution\n#q1.solution()",
      "execution_count": null,
      "outputs": []
    },
    {
      "metadata": {
        "collapsed": true,
        "_uuid": "2bfb282af75dc9dd503f680a8b566d0dc3e07cb7"
      },
      "cell_type": "markdown",
      "source": "## 2.\nThe help for `round` says that `ndigits` (the second argument) may be negative.\nWhat do you think will happen when it is? Try out some examples in the console (at the bottom of the editor) or in a new code cell.\n\nCan you think of a case where this would be useful?"
    },
    {
      "metadata": {
        "_uuid": "dbb5be2c4aa49ebc0002be14d283a4ff0a5fd212",
        "trusted": true
      },
      "cell_type": "code",
      "source": "#q2.solution()",
      "execution_count": 4,
      "outputs": []
    },
    {
      "metadata": {
        "_uuid": "4adb496963ad6aaeb05d987c2aa283a0a128de81"
      },
      "cell_type": "markdown",
      "source": "## 3.\n\nIn the last exercise, I introduced candy-sharing friends Alice, Bob and Carol. As a reminder, they have some candies which they plan to split evenly among themselves. For the sake of their friendship, any candies left over would be smashed. For example, if they collectively bring home 91 candies, they'll take 30 each and smash 1.\n\nEarlier, you wrote some code to calculate how many candies they'd have to smash, assuming they collected a particular number.\n\nBelow is a simple function that will calculate the number of candies to smash for *any* number of total candies.\n\nModify it so that it optionally takes a second argument representing the number of friends the candies are being split between. If no second argument is provided, it should assume 3 friends, as before.\n\nIf you're feeling extra fastidious, update the docstring to reflect this new behaviour (but we won't be checking for this)."
    },
    {
      "metadata": {
        "_uuid": "8114d53eea58781602531f3d5264181e46f0754e",
        "trusted": true
      },
      "cell_type": "code",
      "source": "def to_smash(total_candies, friends=3):\n    \"\"\"Return the number of leftover candies that must be smashed after distributing\n    the given number of candies evenly between 3 friends.\n    \n    >>> to_smash(91)\n    1\n    \"\"\"\n    return total_candies % friends\n\nq3.check()",
      "execution_count": 5,
      "outputs": [
        {
          "output_type": "display_data",
          "data": {
            "text/plain": "Correct",
            "text/markdown": "<span style=\"color:#33cc33\">Correct</span>"
          },
          "metadata": {}
        }
      ]
    },
    {
      "metadata": {
        "collapsed": true,
        "_uuid": "11cc17efc043b8401c0333d331eb1f12749bed0e",
        "trusted": false
      },
      "cell_type": "code",
      "source": "#q3.hint()",
      "execution_count": null,
      "outputs": []
    },
    {
      "metadata": {
        "collapsed": true,
        "_uuid": "899dac7a6e618e3507dfd7d50443f3ddf5963fcd",
        "trusted": false
      },
      "cell_type": "code",
      "source": "#q3.solution()",
      "execution_count": null,
      "outputs": []
    },
    {
      "metadata": {
        "_uuid": "32f7fd378826c773586b5e0992eba1647fb98af7"
      },
      "cell_type": "markdown",
      "source": "## 4.\n\nIt may not be fun, but reading and understanding error messages will be an important part of your Python career.\n\nEach code cell below contains some commented-out buggy code. For each cell...\n\n1. Read the code and predict what you think will happen when it's run.\n2. Then uncomment the code and run it to see what happens. (**Tip**: In the kernel editor, you can highlight several lines and press `ctrl`+`/` to toggle commenting.)\n3. Fix the code (so that it accomplishes its intended purpose without throwing an exception)\n\n<!-- TODO: should this be autochecked? Delta is probably pretty small. -->"
    },
    {
      "metadata": {
        "_uuid": "3e34517e5733041e7b282115fb658da8d4d93672",
        "trusted": true
      },
      "cell_type": "code",
      "source": "round_to_two_places(9.9999)",
      "execution_count": 6,
      "outputs": [
        {
          "output_type": "execute_result",
          "execution_count": 6,
          "data": {
            "text/plain": "10.0"
          },
          "metadata": {}
        }
      ]
    },
    {
      "metadata": {
        "_uuid": "446e656c93284db06573baed82a4837b1dfbc107",
        "trusted": true
      },
      "cell_type": "code",
      "source": "x = -10\ny = 5\n# Which of the two variables above has the smallest absolute value?\nsmallest_abs = min(abs(x), abs(y))",
      "execution_count": 8,
      "outputs": []
    },
    {
      "metadata": {
        "_uuid": "a69f30d3bb6bae6bc766ec57d6202fbacb43901e",
        "trusted": true
      },
      "cell_type": "code",
      "source": "def f(x):\n    y = abs(x)\n    return y\n\nprint(f(5))",
      "execution_count": 9,
      "outputs": [
        {
          "output_type": "stream",
          "text": "5\n",
          "name": "stdout"
        }
      ]
    },
    {
      "metadata": {
        "_uuid": "4b93d44c5dd6a176f5aa66315e694464fd7a732a"
      },
      "cell_type": "markdown",
      "source": "## 5. <span title=\"A bit spicy\" style=\"color: darkgreen \">🌶️</span>\n\nFor this question, we'll be using two functions imported from Python's `time` module.\n\nThe [time](https://docs.python.org/3/library/time.html#time.time) function returns the number of seconds that have passed since the Epoch (aka [Unix time](https://en.wikipedia.org/wiki/Unix_time)). \n\n<!-- We've provided a function called `seconds_since_epoch` which returns the number of seconds that have passed since the Epoch (aka [Unix time](https://en.wikipedia.org/wiki/Unix_time)). -->\n\nTry it out below. Each time you run it, you should get a slightly larger number."
    },
    {
      "metadata": {
        "_uuid": "e9c9b2d942cc7e26b62a697d44f9dd2517cb8142",
        "trusted": true
      },
      "cell_type": "code",
      "source": "# Importing the function 'time' from the module of the same name. \n# (We'll discuss imports in more depth later)\nfrom time import time\nt = time()\nprint(t, \"seconds since the Epoch\")",
      "execution_count": 10,
      "outputs": [
        {
          "output_type": "stream",
          "text": "1531989730.3596373 seconds since the Epoch\n",
          "name": "stdout"
        }
      ]
    },
    {
      "metadata": {
        "_uuid": "b56df7a35127d92124731ea89880f683698ebae8"
      },
      "cell_type": "markdown",
      "source": "We'll also be using a function called [sleep](https://docs.python.org/3/library/time.html#time.sleep), which makes us wait some number of seconds while it does nothing particular. (Sounds useful, right?)\n\nYou can see it in action by running the cell below:"
    },
    {
      "metadata": {
        "_uuid": "6cf60d915d369c8df3c4a9039645b969543770f8",
        "trusted": true
      },
      "cell_type": "code",
      "source": "from time import sleep\nduration = 5\nprint(\"Getting sleepy. See you in\", duration, \"seconds\")\nsleep(duration)\nprint(\"I'm back. What did I miss?\")",
      "execution_count": 11,
      "outputs": [
        {
          "output_type": "stream",
          "text": "Getting sleepy. See you in 5 seconds\nI'm back. What did I miss?\n",
          "name": "stdout"
        }
      ]
    },
    {
      "metadata": {
        "_uuid": "42b0a3eba8fb2ab725ad1fa08308a9b387aa4cef"
      },
      "cell_type": "markdown",
      "source": "With the help of these functions, complete the function `time_call` below according to its docstring.\n\n<!-- (The sleep function will be useful for testing here since we have a pretty good idea of what something like `time_call(sleep, 1)` should return.) -->"
    },
    {
      "metadata": {
        "_uuid": "4b99286b26d554929da01c3027b83f302a0d71f4",
        "trusted": true
      },
      "cell_type": "code",
      "source": "def time_call(fn, arg):\n    \"\"\"Return the amount of time the given function takes (in seconds) when called with the given argument.\n    \"\"\"\n    t0 = time()\n    fn(arg)\n    return time()-t0\nprint(time_call(max, [1,2]))",
      "execution_count": 16,
      "outputs": [
        {
          "output_type": "stream",
          "text": "1.1920928955078125e-06\n",
          "name": "stdout"
        }
      ]
    },
    {
      "metadata": {
        "_uuid": "357a450377ab0af508a0338be88d93ea6e8d3aeb"
      },
      "cell_type": "markdown",
      "source": "How can you verify that `time_call` is working correctly? (There's no `q5.check()` function for this question - testing your solution is part of your challenge.)"
    },
    {
      "metadata": {
        "_uuid": "2a84a076038be7dcf67dfb3b74e4a1df5e394cd5",
        "trusted": true
      },
      "cell_type": "code",
      "source": "#q5.hint()",
      "execution_count": 12,
      "outputs": [
        {
          "output_type": "display_data",
          "data": {
            "text/plain": "Hint: You'll need to call `time()` before and after calling the input function in order to measure its running time. The `sleep` function will be very useful for testing.",
            "text/markdown": "<span style=\"color:#3366cc\">Hint:</span> You'll need to call `time()` before and after calling the input function in order to measure its running time. The `sleep` function will be very useful for testing."
          },
          "metadata": {}
        }
      ]
    },
    {
      "metadata": {
        "collapsed": true,
        "_uuid": "13afe0ee9dc6fd8e5c57b51117b3052e26738a61",
        "trusted": false
      },
      "cell_type": "code",
      "source": "#q5.solution()",
      "execution_count": null,
      "outputs": []
    },
    {
      "metadata": {
        "_uuid": "880b690acd7fe26e848ae76eb661c7f9610e61c1"
      },
      "cell_type": "markdown",
      "source": "## 6. <span title=\"A bit spicy\" style=\"color: darkgreen \">🌶️</span>\n\n*Note: this question depends on a working solution to the previous question.*\n\nComplete the function below according to its docstring."
    },
    {
      "metadata": {
        "_uuid": "6a6082ea60811a83041726ace1767116d8f5f097",
        "trusted": true
      },
      "cell_type": "code",
      "source": "def slowest_call(fn, arg1, arg2, arg3):\n    \"\"\"Return the amount of time taken by the slowest of the following function\n    calls: fn(arg1), fn(arg2), fn(arg3)\n    \"\"\"\n    t0 = time()\n    fn(arg1)\n    t1 = time() - t0\n    t0 = time()\n    fn(arg2)\n    t2 = time() - t0\n    t0 = time()\n    fn(arg3)\n    t3 = time() - t0\n    t0 = time()\n    return max(t1,t2,t3)\n\nprint(slowest_call(max, [1,2], [1,2,3], [1,2,3,4]))",
      "execution_count": 22,
      "outputs": [
        {
          "output_type": "stream",
          "text": "2.1457672119140625e-06\n",
          "name": "stdout"
        }
      ]
    },
    {
      "metadata": {
        "collapsed": true,
        "_uuid": "f41533ecf9be237c000e1eef72877ea05ad26914",
        "trusted": false
      },
      "cell_type": "code",
      "source": "#q6.hint()",
      "execution_count": null,
      "outputs": []
    },
    {
      "metadata": {
        "collapsed": true,
        "_uuid": "b669d8650764a6863375cd9bca850687d65832e4",
        "trusted": false
      },
      "cell_type": "code",
      "source": "#q6.solution()",
      "execution_count": null,
      "outputs": []
    },
    {
      "metadata": {
        "_uuid": "3a74232fb889e85fe9b5ee94c449725eb5f0ffae"
      },
      "cell_type": "markdown",
      "source": "\n\n## 7. <span title=\"A bit spicy\" style=\"color: darkgreen \">🌶️</span>\n\nWhat will Python display after we run the following (weird) code? Think carefully about the order in which Python will evaluate each part. When you have a prediction, uncomment and run the code to check whether you were correct."
    },
    {
      "metadata": {
        "_uuid": "5c1aa66621510f4c0d8c84c36d58d27c0ca3e095",
        "trusted": true
      },
      "cell_type": "code",
      "source": "print(print(\"Spam\"))",
      "execution_count": 23,
      "outputs": [
        {
          "output_type": "stream",
          "text": "Spam\nNone\n",
          "name": "stdout"
        }
      ]
    },
    {
      "metadata": {
        "collapsed": true,
        "_uuid": "5e3b243611bc94bcc5bfffe4ebf68e8b025639e2",
        "trusted": false
      },
      "cell_type": "code",
      "source": "#q7.hint()",
      "execution_count": null,
      "outputs": []
    },
    {
      "metadata": {
        "collapsed": true,
        "_uuid": "7aa3cb081f2aca81113fbf0caf978e1b5d92aaf7",
        "trusted": false
      },
      "cell_type": "code",
      "source": "# Uncomment for an explanation.\n#q7.solution()",
      "execution_count": null,
      "outputs": []
    },
    {
      "metadata": {
        "_uuid": "54d92fb965b1784216a5b09cb259cfd9b6019600"
      },
      "cell_type": "markdown",
      "source": "## 8. <span title=\"Spicy - this optional problem is intended to be extra difficult\" style=\"color: coral\">🌶️🌶️</span>\n\nRead the function definition below. What do you think will be returned by the function call at the bottom of the cell? Will it match the docstring example? Return something else? Or will Python raise an exception? When you're ready, run the code cell to find out."
    },
    {
      "metadata": {
        "_uuid": "fb3e21e78d0e6593c2a0f3a673ea18d520645d0a",
        "trusted": true
      },
      "cell_type": "code",
      "source": "def smallest_stringy_number(s1, s2, s3):\n    \"\"\"Return whichever of the three string arguments represents the smallest number.\n    \n    >>> smallest_stringy_number('1', '2', '3')\n    '1'\n    \"\"\"\n    return min(s1, s2, s3)\n\nsmallest_stringy_number('1', '2', '3')",
      "execution_count": 26,
      "outputs": [
        {
          "output_type": "execute_result",
          "execution_count": 26,
          "data": {
            "text/plain": "'1'"
          },
          "metadata": {}
        }
      ]
    },
    {
      "metadata": {
        "_uuid": "c5b0c80a7c72c53840fca9a60486e3928233bfb9"
      },
      "cell_type": "markdown",
      "source": "<br/><br/><br/><br/><br/><br/><br/><br/><br/>\n\n(If you thought it would raise an exception, that's a perfectly reasonable guess. A large portion of learning Python is just trying stuff out and seeing what happens! A lot of arbitrary or at least subjective decisions go into designing a programming language, and it's not always possible to deduce from first principles how Python will handle a particular situation.)\n\nBut in this case, the `min` function gamely accepts our string inputs and seems to work as desired! Or, at least on the example in the docstring. However, there's a subtle problem afoot. Try experimenting with the function to see if you can find a set of inputs where it fails. Can you see where it's going wrong?"
    },
    {
      "metadata": {
        "_uuid": "d98d94e6e66a2b6ecbeb25312051f19bfbb81f64",
        "trusted": false,
        "collapsed": true
      },
      "cell_type": "code",
      "source": "#q8.a.solution()",
      "execution_count": null,
      "outputs": []
    },
    {
      "metadata": {
        "_uuid": "cd9dd14fe6d733a4d9384ede0d4283019c54bf65"
      },
      "cell_type": "markdown",
      "source": "### b.\n\nIn the cell below, modify `smallest_stringy_number` to fix the bug you identified in part a.\n\nReminder: [In the first lesson](https://www.kaggle.com/colinmorris/hello-python), we briefly saw that `int` can be called on strings such as `'32'` to get the corresponding integer value.\n\n**Bonus**: Can you keep the function's body down to one line? (Try to only use tools we've seen so far - i.e. no loops, conditionals, etc.)"
    },
    {
      "metadata": {
        "_uuid": "c21c37a6eccd8d21bae5e361687491c330a215aa",
        "trusted": true
      },
      "cell_type": "code",
      "source": "def smallest_stringy_number(s1, s2, s3):\n    \"\"\"Return whichever of the three string arguments represents the smallest number.\n    \n    >>> smallest_stringy_number('1', '2', '3')\n    '1'\n    \"\"\"\n    return str(min(int(s1), int(s2), int(s3)))\n\nq8.b.check()",
      "execution_count": 28,
      "outputs": [
        {
          "output_type": "display_data",
          "data": {
            "text/plain": "Correct",
            "text/markdown": "<span style=\"color:#33cc33\">Correct</span>"
          },
          "metadata": {}
        }
      ]
    },
    {
      "metadata": {
        "collapsed": true,
        "_uuid": "1eeaa5a01b9a9da8b08455ce6b251948d9e7cf2c",
        "trusted": false
      },
      "cell_type": "code",
      "source": "#q8.b.hint()",
      "execution_count": null,
      "outputs": []
    },
    {
      "metadata": {
        "collapsed": true,
        "_uuid": "94a5151184bef94562d72465268c8a21381b479a",
        "trusted": false
      },
      "cell_type": "code",
      "source": "#q8.b.solution()",
      "execution_count": null,
      "outputs": []
    },
    {
      "metadata": {
        "_uuid": "56d603d3a598fdbd18b67766cc8460a13b914748"
      },
      "cell_type": "markdown",
      "source": "If you have any questions, be sure to post them on the [forums](https://www.kaggle.com/learn-forum).\n\nRemember that your notebook is private by default, and in order to share it with other people or ask for help with it, you'll need to make it public. First, you'll need to save a version of your notebook that shows your current work by hitting the \"Commit & Run\" button. (Your work is saved automatically, but versioning your work lets you go back and look at what it was like at the point you saved it. It also let's you share a nice compiled notebook instead of just the raw code.) Then, once your notebook is finished running, you can go to the Settings tab in the panel to the left (you may have to expand it by hitting the [<] button next to the \"Commit & Run\" button) and setting the \"Visibility\" dropdown to \"Public\".\n\n# Keep Going\n\nWhen you're ready to continue, [click here](https://www.kaggle.com/colinmorris/booleans-and-conditionals) to continue on to the next tutorial on booleans and conditionals."
    }
  ],
  "metadata": {
    "kernelspec": {
      "display_name": "Python 3",
      "language": "python",
      "name": "python3"
    },
    "language_info": {
      "name": "python",
      "version": "3.6.6",
      "mimetype": "text/x-python",
      "codemirror_mode": {
        "name": "ipython",
        "version": 3
      },
      "pygments_lexer": "ipython3",
      "nbconvert_exporter": "python",
      "file_extension": ".py"
    },
    "learntools_metadata": {
      "lesson_index": 1,
      "type": "exercise"
    }
  },
  "nbformat": 4,
  "nbformat_minor": 1
}