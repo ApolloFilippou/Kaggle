{
  "cells": [
    {
      "metadata": {
        "_uuid": "05a0ad6ebf7cb964d6193c36d622af4ad7be6427"
      },
      "cell_type": "markdown",
      "source": "# Exercises"
    },
    {
      "metadata": {
        "_uuid": "4d4fb2ac26e389273341f12c598e5984b9dd2e1e"
      },
      "cell_type": "markdown",
      "source": "Welcome to your first set of Python coding problems! Each tutorial will be followed by a handful of problems so you can practice what you just learned.\n\nAlso, if this is your first time using Kaggle Kernels, welcome! For a very quick introduction to Kernels' features, [check out this video](https://youtu.be/4C2qMnaIKL4).\n\nTry running the code cell below (by pressing the ► button in the left margin, or clicking on the cell and using the keyboard shortcut ctrl+enter)."
    },
    {
      "metadata": {
        "_uuid": "83700ad76cbb4bcbb99546080de3aba29ba3002a",
        "trusted": true,
        "collapsed": true
      },
      "cell_type": "code",
      "source": "print(\"You've successfully run some Python code\")\nprint(\"Congratulations!\")",
      "execution_count": null,
      "outputs": []
    },
    {
      "metadata": {
        "_uuid": "c49712da3d9f8adcd0b0e8ae7fe45ce5c9f5ab55"
      },
      "cell_type": "markdown",
      "source": "Try adding another line of code to the cell above and re-running it. \n\nTry creating a new code cell (using the \"+\" buttons in a cell's top-right menu), writing some code in it, then running it.\n\nGreat! You now know how to use Kernels.\n\nIf you're curious about other ways of running Python code, and how to install Python locally, check out [the installation section of chapter 0 of A Whirlwind Tour of Python](https://www.kaggle.com/sohier/whirlwind-tour-of-python-00-introduction), and chapter 1 of WTOP on [How to Run Python Code](https://www.kaggle.com/sohier/wtop-01-how-to-run-python-code).\n\nEach exercise will start by importing some code that I wrote for checking  your code. Run the code cell below to do that, and you'll be ready to move on to question 0."
    },
    {
      "metadata": {
        "_kg_hide-input": true,
        "_kg_hide-output": true,
        "_uuid": "49bd30a5a3423522b84238a7ac75d0be67953b54",
        "trusted": true
      },
      "cell_type": "code",
      "source": "# You don't need to worry for now about what this code does or how it works. If you're ever curious about the \n# code behind these exercises, it's available under an open source license here: https://github.com/Kaggle/learntools/\n# (But if you can understand that code, you'll probably find these lessons boring :)\nfrom learntools.core import binder; binder.bind(globals())\nfrom learntools.python.ex1 import *\nprint(\"Setup complete! You're ready to start question 0.\")",
      "execution_count": 5,
      "outputs": [
        {
          "output_type": "stream",
          "text": "WARNING:root:Ignoring repeated attempt to bind to globals\n",
          "name": "stderr"
        },
        {
          "output_type": "stream",
          "text": "Setup complete! You're ready to start question 0.\n",
          "name": "stdout"
        }
      ]
    },
    {
      "metadata": {
        "_uuid": "6482d85ddd7b7a336983af809021edff88550e4f"
      },
      "cell_type": "markdown",
      "source": "## 0.\n\n*This is a silly question intended as an introduction to the format we'll be using for questions throughout the Python course.*\n\n**What is your favorite color? **\n\nTo complete this question, you must create a variable called `color` in the cell below with an appropriate value. The function call `q0.check()` (which we've already provided in the cell below) will check your answer. If you run the cell below without changing its contents, `q0.check()` will recognize that you haven't attempted the problem yet, and remind you what you need to do. Try that now.\n\n(If  you get a `NameError`, it probably means you didn't run the setup code above. Make sure you run the previous code cell, and see a \"Setup complete!\" message printed.)"
    },
    {
      "metadata": {
        "_uuid": "f6905f9f349e06dd5f1608da3055354c92ec1769",
        "trusted": true,
        "collapsed": true
      },
      "cell_type": "code",
      "source": "# create a variable called color with an appropriate value on the line below.\ncolor = 'blue'\nq0.check()",
      "execution_count": null,
      "outputs": []
    },
    {
      "metadata": {
        "_uuid": "ac150147d61bb2edab379e367e6d0c374bbf8033"
      },
      "cell_type": "markdown",
      "source": "Now try editing the cell below to solve the problem, creating a variable `color` on the second line of the cell. Run the cell to check your answer."
    },
    {
      "metadata": {
        "_uuid": "a7985a79f4a905fd47e0c39c273f5b0abfb1411e",
        "trusted": true,
        "collapsed": true
      },
      "cell_type": "code",
      "source": "# create a variable called color with an appropriate value on the line below\n# (Remember, strings in Python must be enclosed in 'single' or \"double\" quotes)\n\nq0.check()",
      "execution_count": null,
      "outputs": []
    },
    {
      "metadata": {
        "_uuid": "cfbd655aee98b80f60f1c863ccea338bf280db79"
      },
      "cell_type": "markdown",
      "source": "Didn't get the right answer? How do you not even know your own favorite color?!\n\nUncomment the below cell (by deleting the `#`) then run it to get a hint.  \n\nYou can also uncomment the second cell below to get the full answer."
    },
    {
      "metadata": {
        "_uuid": "a052e09bb8edb193c717669b9790ce5471f2e9fe",
        "trusted": true,
        "collapsed": true
      },
      "cell_type": "code",
      "source": "q0.hint()",
      "execution_count": null,
      "outputs": []
    },
    {
      "metadata": {
        "_uuid": "299ba4b4d93e691a1c1ee61772f91e9551bd897e",
        "trusted": true,
        "collapsed": true
      },
      "cell_type": "code",
      "source": "q0.solution()",
      "execution_count": null,
      "outputs": []
    },
    {
      "metadata": {
        "_uuid": "af0f377dd08d6f86ef6cb6d1d4fd14afb25d1139"
      },
      "cell_type": "markdown",
      "source": "All the questions for these exercises will have this kind of \"API\". The only thing that will change are the questions numbers. For the next question, you'll call `q1.check()`, `q1.hint()`, `q1.solution()`, for question 5, you'll call `q5.check()`, and so on."
    },
    {
      "metadata": {
        "_uuid": "a8b76fbb187e351a231ad48b76ffc918a8a53d6b"
      },
      "cell_type": "markdown",
      "source": "<hr/>\n\n## 1.\n\nComplete the code below."
    },
    {
      "metadata": {
        "_uuid": "65e1396fd003bdc3ed6a1efea3d2119242bd76d7",
        "trusted": true,
        "collapsed": true
      },
      "cell_type": "code",
      "source": "pi = 3.14159 # approximate\ndiameter = 3\n\n# Create a variable called 'radius' equal to half the diameter\nradius = diameter/2\n# Create a variable called 'area', using the formula for the area of a circle: pi times the radius squared\narea = pi * radius**2\nq1.check()",
      "execution_count": null,
      "outputs": []
    },
    {
      "metadata": {
        "collapsed": true,
        "_uuid": "fc869998466c9b3c716eb3d7b754f984950225ab",
        "trusted": false
      },
      "cell_type": "code",
      "source": "# Uncomment and run the lines below if you need help.\n#q1.hint()\n#q1.solution()",
      "execution_count": null,
      "outputs": []
    },
    {
      "metadata": {
        "_uuid": "1ab72f02ef5e7c4f74c6eb6663f1a471d05df20c"
      },
      "cell_type": "markdown",
      "source": "<hr/>\n## 2.\n\nAdd code to the following cell to swap variables `a` and `b` (so that `a` refers to the object previously referred to by `b` and vice versa)."
    },
    {
      "metadata": {
        "_uuid": "bac035ce6f95ce607e6a229603b12500253c74b4",
        "trusted": true,
        "collapsed": true
      },
      "cell_type": "code",
      "source": "########### Setup code - don't touch this part ######################\n# If you're curious, these are examples of lists. We'll talk about \n# them in depth a few lessons from now. For now, just know that they're\n# yet another type of Python object, like int or float.\na = [1, 2, 3]\nb = [3, 2, 1]\nq2.store_original_ids()\n######################################################################\n\n# Your code goes here. Swap the values to which a and b refer.\n# If you get stuck, you can always uncomment one or both of the lines in\n# the next cell for a hint, or to peek at the solution.\ntemp = a\na = b\nb = temp\n\n######################################################################\nq2.check()",
      "execution_count": null,
      "outputs": []
    },
    {
      "metadata": {
        "collapsed": true,
        "_uuid": "12abc2d81fa604a2779b933d355f2395be208437",
        "trusted": false
      },
      "cell_type": "code",
      "source": "#q2.hint()",
      "execution_count": null,
      "outputs": []
    },
    {
      "metadata": {
        "collapsed": true,
        "_uuid": "cc13d407b6a175518741d5aba76ccfd4a6742026",
        "trusted": false
      },
      "cell_type": "code",
      "source": "#q2.solution()",
      "execution_count": null,
      "outputs": []
    },
    {
      "metadata": {
        "_uuid": "2b7b072a873b37e239ad25ce962555014869236e"
      },
      "cell_type": "markdown",
      "source": "<hr/>\n## 3.\n\n<!-- TODO: Or maybe this SHOULD just have a check method for consistency.-->\n\n<small>*Note: some questions, such as this one, won't have a .check() function. In this case, it should hopefully be easy to see whether you've succeeded by visual inspection.*</small>\n\na) Add parentheses to the following expression so that it evaluates to 1."
    },
    {
      "metadata": {
        "_uuid": "0ddc7409af80427621dd5232efe330a6d3ad9455",
        "trusted": true,
        "collapsed": true
      },
      "cell_type": "code",
      "source": "(5 - 3) // 2",
      "execution_count": null,
      "outputs": []
    },
    {
      "metadata": {
        "collapsed": true,
        "_uuid": "20799a43b2bc59fc936e0e56dd581a6505328a37",
        "trusted": false
      },
      "cell_type": "code",
      "source": "#q3.a.hint()",
      "execution_count": null,
      "outputs": []
    },
    {
      "metadata": {
        "collapsed": true,
        "_uuid": "71f4c061085f7cf6fd2b1d63a3db379adea40107",
        "trusted": false
      },
      "cell_type": "code",
      "source": "#q3.a.solution()",
      "execution_count": null,
      "outputs": []
    },
    {
      "metadata": {
        "_uuid": "9034399431ed2f0794f1939c32542a015b810d1b"
      },
      "cell_type": "markdown",
      "source": "b) <span title=\"A bit spicy\" style=\"color: darkgreen \">🌶️</span> Add parentheses to the following expression so that it evaluates to 0\n\n<small>Questions, like this one, marked with a single pepper are a bit harder than average.</small>"
    },
    {
      "metadata": {
        "_uuid": "dff8a54bfc36f56377227b73de40f8a7306b23a3",
        "trusted": true,
        "collapsed": true
      },
      "cell_type": "code",
      "source": "8 - (3 * 2) - (1 + 1)",
      "execution_count": null,
      "outputs": []
    },
    {
      "metadata": {
        "collapsed": true,
        "_uuid": "d9757c9c5c5361f9d526f11422ae4375299af859",
        "trusted": false
      },
      "cell_type": "code",
      "source": "#q3.b.hint()",
      "execution_count": null,
      "outputs": []
    },
    {
      "metadata": {
        "collapsed": true,
        "_uuid": "a1ae10bc0ca0374ccfda68c7c57c3d0bd5b20278",
        "trusted": false
      },
      "cell_type": "code",
      "source": "#q3.b.solution()",
      "execution_count": null,
      "outputs": []
    },
    {
      "metadata": {
        "_uuid": "bd10cbf827f0ebe090dbabc5cfc82b82accc10ba"
      },
      "cell_type": "markdown",
      "source": "<hr/>\n## 4. \nAlice, Bob and Carol have agreed to pool their Halloween candy and split it evenly among themselves.\nFor the sake of their friendship, any candies left over will be smashed. For example, if they collectively\nbring home 91 candies, they'll take 30 each and smash 1.\n\nWrite an arithmetic expression below to calculate how many candies they must smash for a given haul."
    },
    {
      "metadata": {
        "_uuid": "30910fc74023698c9513c6c2e9aff220991b6237",
        "trusted": true,
        "collapsed": true
      },
      "cell_type": "code",
      "source": "# Variables representing the number of candies collected by alice, bob, and carol\nalice_candies = 121\nbob_candies = 77\ncarol_candies = 109\n\n# Your code goes here! Replace the right-hand side of this assignment with an expression\n# involving alice_candies, bob_candies, and carol_candies\nto_smash = (alice_candies+bob_candies+carol_candies)%3\n\nq4.check()",
      "execution_count": null,
      "outputs": []
    },
    {
      "metadata": {
        "collapsed": true,
        "_uuid": "6882b3a4419dd98d7aff2fdf1e2b545118163d4a",
        "trusted": false
      },
      "cell_type": "code",
      "source": "#q4.hint()\n#q4.solution()",
      "execution_count": null,
      "outputs": []
    },
    {
      "metadata": {
        "_uuid": "49dcca976376ef25968c1a7a87df010261f97847"
      },
      "cell_type": "markdown",
      "source": "<hr/>\n## 5. <span title=\"Spicy\" style=\"color: coral\">🌶️🌶️</span>\n\n<small>Questions marked with 2 or more peppers are especially tricky - don't feel bad about having to peek at the solution.</small>\n\nThe code cell below may look like ASCII art, but it's actually a valid Python expression.\nCan you guess its value? Once you've made a prediction, uncomment and run the expression.\n\n<!-- TODO: Maybe a q6.a for them to guess the expression value before running, and have us tell them whether it's right or not? -->"
    },
    {
      "metadata": {
        "_uuid": "d5f9649621e988157f7c8f4eac2bf7ec6ebf685a",
        "trusted": true,
        "collapsed": true
      },
      "cell_type": "code",
      "source": "7------3",
      "execution_count": null,
      "outputs": []
    },
    {
      "metadata": {
        "_uuid": "241661dad60f871d377daacb3e2afd8e68228a38"
      },
      "cell_type": "markdown",
      "source": "What's going on here?\n\nHere's a test of your understanding: how will the value of the expression change as `-`s are added or removed from the middle? Fill in the variable `ninety_nine_dashes` in the code cell below with the value of the above expression if we had used 99 `-` symbols between 7 and 3 ."
    },
    {
      "metadata": {
        "_uuid": "8347944a70965ce713340a18f82879275eb366a7",
        "trusted": true,
        "collapsed": true
      },
      "cell_type": "code",
      "source": "ninety_nine_dashes = 4\nq5.check()",
      "execution_count": null,
      "outputs": []
    },
    {
      "metadata": {
        "collapsed": true,
        "_uuid": "3a1fc8d675046038debf2ab7ed4992b8c3106c73",
        "trusted": false
      },
      "cell_type": "code",
      "source": "#q5.hint()\n#q5.solution()",
      "execution_count": null,
      "outputs": []
    },
    {
      "metadata": {
        "_uuid": "9b499f530c8f7c7ef838e06b0b1b8a98fcdec2bd"
      },
      "cell_type": "markdown",
      "source": "<hr/>\n## 6. <span title=\"Spicy\" style=\"color: coral\">🌶️🌶️</span>\n\nThe following is an example of a tricky piece of arithmetic manipulation you might encounter when using Python for visualization.\n\nSuppose we're working with the [QuickDraw dataset](https://www.kaggle.com/google/tinyquickdraw) of doodled sketches and we want to visualize several sketches at once in a grid-like arrangement.\n\nWe'd like to reserve 2x2 inches for each image, and we'd like the whole grid to be no wider than 16 inches.\n\nThe code below almost works. It does the following:\n\n1. Get a random number of sketches from some category (e.g. bears, stars, hockey sticks...)\n2. Create variables `rows`, `cols`, `height`, and `width`, setting them to numbers we pulled out of the air.\n3. Calls `plt.subplots()` using the variables from step 2, which creates a grid with the given characteristics.\n4. Draws the sketches from step 1 in the grid from step 3.\n\nTry running the cell a few times to see it in action."
    },
    {
      "metadata": {
        "_uuid": "5622fa51e167d83d2765750af15be17aacbb74b3",
        "trusted": true
      },
      "cell_type": "code",
      "source": "import random\nfrom matplotlib import pyplot as plt\nfrom learntools.python.quickdraw import random_category, sample_images_of_category, draw_images_on_subplots\n\n## Step 1: Sample some sketches\n# How many sketches to view - a random number from 2 to 20\nn = random.randint(2, 20)\n# Choose a random quickdraw category. (Check out https://quickdraw.withgoogle.com/data for an overview of categories)\ncategory = random_category()\nimgs = sample_images_of_category(n, category)\n\n## Step 2: Choose the grid properties\n######## Your changes should go here ###############\nrows = (n-1)//8 + 1\ncols = min(8, n)\n# The height and width of the whole grid, measured in inches.\nheight = rows*2\nwidth = cols*2\n\n## Step 3: Create the grid\ngrid = plt.subplots(rows, cols, figsize=(width, height))\n\n## Step 4: Draw the sketches in the grid\ndraw_images_on_subplots(imgs, grid)",
      "execution_count": 3,
      "outputs": [
        {
          "output_type": "error",
          "ename": "IndexError",
          "evalue": "Cannot choose from an empty sequence",
          "traceback": [
            "\u001b[0;31m---------------------------------------------------------------------------\u001b[0m",
            "\u001b[0;31mIndexError\u001b[0m                                Traceback (most recent call last)",
            "\u001b[0;32m<ipython-input-3-54fd5908bfde>\u001b[0m in \u001b[0;36m<module>\u001b[0;34m()\u001b[0m\n\u001b[1;32m      7\u001b[0m \u001b[0mn\u001b[0m \u001b[0;34m=\u001b[0m \u001b[0mrandom\u001b[0m\u001b[0;34m.\u001b[0m\u001b[0mrandint\u001b[0m\u001b[0;34m(\u001b[0m\u001b[0;36m2\u001b[0m\u001b[0;34m,\u001b[0m \u001b[0;36m20\u001b[0m\u001b[0;34m)\u001b[0m\u001b[0;34m\u001b[0m\u001b[0m\n\u001b[1;32m      8\u001b[0m \u001b[0;31m# Choose a random quickdraw category. (Check out https://quickdraw.withgoogle.com/data for an overview of categories)\u001b[0m\u001b[0;34m\u001b[0m\u001b[0;34m\u001b[0m\u001b[0m\n\u001b[0;32m----> 9\u001b[0;31m \u001b[0mcategory\u001b[0m \u001b[0;34m=\u001b[0m \u001b[0mrandom_category\u001b[0m\u001b[0;34m(\u001b[0m\u001b[0;34m)\u001b[0m\u001b[0;34m\u001b[0m\u001b[0m\n\u001b[0m\u001b[1;32m     10\u001b[0m \u001b[0mimgs\u001b[0m \u001b[0;34m=\u001b[0m \u001b[0msample_images_of_category\u001b[0m\u001b[0;34m(\u001b[0m\u001b[0mn\u001b[0m\u001b[0;34m,\u001b[0m \u001b[0mcategory\u001b[0m\u001b[0;34m)\u001b[0m\u001b[0;34m\u001b[0m\u001b[0m\n\u001b[1;32m     11\u001b[0m \u001b[0;34m\u001b[0m\u001b[0m\n",
            "\u001b[0;32m/opt/conda/lib/python3.6/site-packages/learntools/python/quickdraw.py\u001b[0m in \u001b[0;36mrandom_category\u001b[0;34m()\u001b[0m\n\u001b[1;32m     35\u001b[0m \u001b[0;34m\u001b[0m\u001b[0m\n\u001b[1;32m     36\u001b[0m \u001b[0;32mdef\u001b[0m \u001b[0mrandom_category\u001b[0m\u001b[0;34m(\u001b[0m\u001b[0;34m)\u001b[0m\u001b[0;34m:\u001b[0m\u001b[0;34m\u001b[0m\u001b[0m\n\u001b[0;32m---> 37\u001b[0;31m     \u001b[0;32mreturn\u001b[0m \u001b[0mrandom\u001b[0m\u001b[0;34m.\u001b[0m\u001b[0mchoice\u001b[0m\u001b[0;34m(\u001b[0m\u001b[0mobj_files\u001b[0m\u001b[0;34m)\u001b[0m\u001b[0;34m\u001b[0m\u001b[0m\n\u001b[0m\u001b[1;32m     38\u001b[0m \u001b[0;34m\u001b[0m\u001b[0m\n\u001b[1;32m     39\u001b[0m \u001b[0;32mdef\u001b[0m \u001b[0msample_images_of_category\u001b[0m\u001b[0;34m(\u001b[0m\u001b[0mn\u001b[0m\u001b[0;34m,\u001b[0m \u001b[0mcat\u001b[0m\u001b[0;34m)\u001b[0m\u001b[0;34m:\u001b[0m\u001b[0;34m\u001b[0m\u001b[0m\n",
            "\u001b[0;32m/opt/conda/lib/python3.6/random.py\u001b[0m in \u001b[0;36mchoice\u001b[0;34m(self, seq)\u001b[0m\n\u001b[1;32m    258\u001b[0m             \u001b[0mi\u001b[0m \u001b[0;34m=\u001b[0m \u001b[0mself\u001b[0m\u001b[0;34m.\u001b[0m\u001b[0m_randbelow\u001b[0m\u001b[0;34m(\u001b[0m\u001b[0mlen\u001b[0m\u001b[0;34m(\u001b[0m\u001b[0mseq\u001b[0m\u001b[0;34m)\u001b[0m\u001b[0;34m)\u001b[0m\u001b[0;34m\u001b[0m\u001b[0m\n\u001b[1;32m    259\u001b[0m         \u001b[0;32mexcept\u001b[0m \u001b[0mValueError\u001b[0m\u001b[0;34m:\u001b[0m\u001b[0;34m\u001b[0m\u001b[0m\n\u001b[0;32m--> 260\u001b[0;31m             \u001b[0;32mraise\u001b[0m \u001b[0mIndexError\u001b[0m\u001b[0;34m(\u001b[0m\u001b[0;34m'Cannot choose from an empty sequence'\u001b[0m\u001b[0;34m)\u001b[0m \u001b[0;32mfrom\u001b[0m \u001b[0;32mNone\u001b[0m\u001b[0;34m\u001b[0m\u001b[0m\n\u001b[0m\u001b[1;32m    261\u001b[0m         \u001b[0;32mreturn\u001b[0m \u001b[0mseq\u001b[0m\u001b[0;34m[\u001b[0m\u001b[0mi\u001b[0m\u001b[0;34m]\u001b[0m\u001b[0;34m\u001b[0m\u001b[0m\n\u001b[1;32m    262\u001b[0m \u001b[0;34m\u001b[0m\u001b[0m\n",
            "\u001b[0;31mIndexError\u001b[0m: Cannot choose from an empty sequence"
          ]
        }
      ]
    },
    {
      "metadata": {
        "_uuid": "8cccb5580ecd7c2b0399fb3ff3022b687b75a9cb"
      },
      "cell_type": "markdown",
      "source": "You may have noticed a few problems (with accompanying warning messages printed out):\n\n- We wanted each image to be drawn in a square (with width and height of 2 inches), but they're being drawn inside fat rectangles.\n- Our grid can only fit at most 15 images. If we sample more than that, only the first 15 are shown.\n- If we sample a small number of images, we waste a lot of space.\n\nAll these problems stem from our shoddy approach to step 2 in the code. Instead of using the same grid dimensions every time, they should adapt to the number of images we're showing. For example, if `n = 3`,  we should make a 6\" x 2\" grid with 1 row and 3 columns. If `n = 15`, we should make a 16\" x 4\" grid with 2 rows and 8 columns. (We'll have one empty space in the grid, but that's okay, as long as we don't have whole rows or columns that are empty.)\n\nUpdate the code above to fix the values of `rows`, `cols`, `width`, and `height`, so that our grid adapts to the number of images shown and makes efficient use of space. Run your code a few times to make sure it doesn't generate any warnings.\n\n<small>**Note**: I'm intentionally glossing over the details of steps 1, 3, and 4 of the code. If you're curious about how the functions we imported such as `sample_images_of_category`, or `draw_images_on_subplots` work, you can check out their definitions [here](https://github.com/Kaggle/learntools/blob/master/learntools/python/quickdraw.py). The code uses lots of syntax and data structures that we'll cover later, so if it looks like gibberish to you at this point, don't worry. We will *not* be going into the specifics of data visualization using matplotlib or any other library in this course. But fortunately, we have a [course on Kaggle Learn](https://www.kaggle.com/learn/data-visualisation) on just that topic.</small>"
    },
    {
      "metadata": {
        "collapsed": true,
        "_uuid": "2686076c98ff484d339d8937c58b64274b9789af",
        "trusted": false
      },
      "cell_type": "code",
      "source": "#q6.hint()\n#q6.solution()",
      "execution_count": null,
      "outputs": []
    },
    {
      "metadata": {
        "_uuid": "c8d85cf00cc98e62e94b18e55b82357322bfb0c6"
      },
      "cell_type": "markdown",
      "source": "**Bonus**: Can you code this in a way the minimizes the number of empty cells (while obeying the original constraints about 2x2 inches per image and no more than 16\" total width)? For example, a naive solution for `n = 10` might create an 8x2 grid, meaning the bottom row would have only 2 images, and 4 empty spaces. A more clever solution would set `rows = 2`, and `columns = 5`."
    },
    {
      "metadata": {
        "_uuid": "fd349ac23057c6d52cad1ed0005cd8c3f9cccc78"
      },
      "cell_type": "markdown",
      "source": "<hr/>\n## 7. <span title=\"Extra-spicy. Recommended for experienced Pythonistas only\" style=\"color: firebrick\">🌶️🌶️🌶️</span>\n\n<small>Questions marked with 3 peppers are **extra-spicy**, and may be difficult to solve without prior Python experience. They're mostly aimed at experienced Python coders who are taking the Python course as a refresher. If that doesn't describe you, feel free to skip this one.</small>\n\nSuppose we want to create two variables, `a` and `b`, both initialized to 0. The obvious way to do this would be...\n\n```python\na = 0\nb = 0```\n\nBut if you've read a lot of Python code, you may be aware of the following nifty shortcut:\n\n```python\na = b = 0\n```\n\nCan you think of a case where it makes a difference which syntax we use, when initializing two variables to the same value?"
    },
    {
      "metadata": {
        "_uuid": "13ee5e230deb98fa1565d0d6d896a06d2c11f67c",
        "trusted": true,
        "collapsed": true
      },
      "cell_type": "code",
      "source": "#q7.hint()\n#q7.solution()",
      "execution_count": null,
      "outputs": []
    },
    {
      "metadata": {
        "_uuid": "30fd982d8245bdf241f52e203aa1bf832a5e45a7"
      },
      "cell_type": "markdown",
      "source": "If you have any questions, be sure to post them on the [forums](https://www.kaggle.com/learn-forum).\n\nRemember that your notebook is private by default, and in order to share it with other people or ask for help with it, you'll need to make it public. First, you'll need to save a version of your notebook that shows your current work by hitting the \"Commit & Run\" button. (Your work is saved automatically, but versioning your work lets you go back and look at what it was like at the point you saved it. It also let's you share a nice compiled notebook instead of just the raw code.) Then, once your notebook is finished running, you can go to the Settings tab in the panel to the left (you may have to expand it by hitting the [<] button next to the \"Commit & Run\" button) and setting the \"Visibility\" dropdown to \"Public\".\n\n# Keep Going\n\nWhen you're ready to continue, [click here](https://www.kaggle.com/colinmorris/functions-and-getting-help) to continue on to the next tutorial on functions and getting help."
    }
  ],
  "metadata": {
    "kernelspec": {
      "display_name": "Python 3",
      "language": "python",
      "name": "python3"
    },
    "language_info": {
      "name": "python",
      "version": "3.6.6",
      "mimetype": "text/x-python",
      "codemirror_mode": {
        "name": "ipython",
        "version": 3
      },
      "pygments_lexer": "ipython3",
      "nbconvert_exporter": "python",
      "file_extension": ".py"
    },
    "learntools_metadata": {
      "lesson_index": 0,
      "type": "exercise"
    }
  },
  "nbformat": 4,
  "nbformat_minor": 1
}