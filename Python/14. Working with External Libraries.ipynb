{
  "cells": [
    {
      "metadata": {
        "_uuid": "4fd5470e02d2abb69339625be1b78bd50bb5e369"
      },
      "cell_type": "markdown",
      "source": "These exercises accompany the tutorial on [imports](https://www.kaggle.com/colinmorris/working-with-external-libraries).\n\nThere are only four problems in this last set of exercises, but they're all pretty tricky, so be on guard! If you get stuck, don't hesitate to head to the [Learn Forum](https://kaggle.com/learn-forum) to discuss.\n\nRun the setup code below before working on the questions (and run it again if you leave this notebook and come back later)."
    },
    {
      "metadata": {
        "_uuid": "9571c9a27214f2c0ab812f5c7fe183f7b13fad77",
        "trusted": true
      },
      "cell_type": "code",
      "source": "# SETUP. You don't need to worry for now about what this code does or how it works. If you're ever curious about the \n# code behind these exercises, it's available under an open source license here: https://github.com/Kaggle/learntools/\nfrom learntools.core import binder; binder.bind(globals())\nfrom learntools.python.ex7 import *\nprint('Setup complete.')",
      "execution_count": 31,
      "outputs": [
        {
          "output_type": "stream",
          "text": "WARNING:root:Ignoring repeated attempt to bind to globals\n",
          "name": "stderr"
        },
        {
          "output_type": "stream",
          "text": "Setup complete.\n",
          "name": "stdout"
        }
      ]
    },
    {
      "metadata": {
        "_uuid": "e5723de59920309648adc5de83d4caa27dc4011c"
      },
      "cell_type": "markdown",
      "source": "# Exercises"
    },
    {
      "metadata": {
        "_uuid": "992882f3fcbcaf0b10b61bb0063bbe5d5626b386"
      },
      "cell_type": "markdown",
      "source": "## 1.\n\nAfter completing [the exercises on lists and tuples](https://www.kaggle.com/kernels/fork/1275177), Jimmy noticed that, according to his `estimate_average_slot_payout` function, the slot machines at the Learn Python Casino are actually rigged *against* the house, and are profitable to play in the long run.\n\nStarting with $200 in his pocket, Jimmy has played the slots 500 times, recording his new balance in a list after each spin. He used Python's `matplotlib` library to make a graph of his balance over time:"
    },
    {
      "metadata": {
        "_uuid": "75efbebffcec962e36205e7874cf1750afbbe5b0",
        "trusted": true,
        "collapsed": true
      },
      "cell_type": "code",
      "source": "# Import the jimmy_slots submodule\nfrom learntools.python import jimmy_slots\n# Call the get_graph() function to get Jimmy's graph\ngraph = jimmy_slots.get_graph()\ngraph",
      "execution_count": null,
      "outputs": []
    },
    {
      "metadata": {
        "_uuid": "3534e211af93df07dcd4a448225975dfe53f4b30"
      },
      "cell_type": "markdown",
      "source": "As you can see, he's hit a bit of bad luck recently. He wants to tweet this along with some choice emojis, but, as it looks right now, his followers will probably find it confusing. He's asked if you can help him make the following changes:\n\n1. Add the title \"Results of 500 slot machine pulls\"\n2. Make the y-axis start at 0. \n3. Add the label \"Balance\" to the y-axis\n\nAfter calling `type(graph)` you see that Jimmy's graph is of type `matplotlib.axes._subplots.AxesSubplot`. Hm, that's a new one. By calling `dir(graph)`, you find three methods that seem like they'll be useful: `.set_title()`, `.set_ylim()`, and `.set_ylabel()`. \n\nUse these methods to complete the function `prettify_graph` according to Jimmy's requests. We've already checked off the first request for you (setting a title).\n\n(Remember: if you don't know what these methods do, use the `help()` function!)"
    },
    {
      "metadata": {
        "_uuid": "3d073052bee9e23f5c5e850a537024c602c2c0df",
        "trusted": true,
        "collapsed": true
      },
      "cell_type": "code",
      "source": "def prettify_graph(graph):\n    \"\"\"Modify the given graph according to Jimmy's requests: add a title, make the y-axis\n    start at 0, label the y-axis. (And, if you're feeling ambitious, format the tick marks\n    as dollar amounts using the \"$\" symbol.)\n    \"\"\"\n    graph.set_title(\"Results of 500 slot machine pulls\")\n    # Complete steps 2 and 3 here\n    graph.set_ylim(0)\n    graph.set_ylabel('Balance')\n    ticks = graph.get_yticks()\n    new = ['${}'.format(int(dollars)) for dollars in ticks]\n    graph.set_yticklabels(new)\n    \ngraph = jimmy_slots.get_graph()\nprettify_graph(graph)\ngraph",
      "execution_count": null,
      "outputs": []
    },
    {
      "metadata": {
        "_uuid": "09bb28cdcbe9bbb2e1bbca3483baacff9b778ef0"
      },
      "cell_type": "markdown",
      "source": "**Bonus:** Can you format the numbers on the y-axis so they look like dollar amounts? e.g. $200 instead of just 200.\n\n(We're not going to tell you what method(s) to use here. You'll need to go digging yourself with `dir(graph)` and/or `help(graph)`.)"
    },
    {
      "metadata": {
        "_uuid": "effa0d9d5c3e6af053ca749242eb2fbea9824a18",
        "trusted": true,
        "collapsed": true
      },
      "cell_type": "code",
      "source": "#q1.solution()",
      "execution_count": null,
      "outputs": []
    },
    {
      "metadata": {
        "_uuid": "c375ceafd2e4573639b91b111b52225efef640af"
      },
      "cell_type": "markdown",
      "source": "## 2. <span title=\"Spicy\" style=\"color: coral\">🌶️🌶️</span>\n\nLuigi is trying to perform an analysis to determine the best items for winning races on the Mario Kart circuit. He has some data in the form of lists of dictionaries that look like...\n\n    [\n        {'name': 'Peach', 'items': ['green shell', 'banana', 'green shell',], 'finish': 3},\n        {'name': 'Bowser', 'items': ['green shell',], 'finish': 1},\n        # Sometimes the racer's name wasn't recorded\n        {'name': None, 'items': ['mushroom',], 'finish': 2},\n        {'name': 'Toad', 'items': ['green shell', 'mushroom'], 'finish': 1},\n    ]\n\n`'items'` is a list of all the power-up items the racer picked up in that race, and `'finish'` was their placement in the race (1 for first place, 3 for third, etc.).\n\nHe wrote the function below to take a list like this and return a dictionary mapping each item to how many times it was picked up by first-place finishers."
    },
    {
      "metadata": {
        "collapsed": true,
        "_uuid": "bd10c1ee5aaada6359d9b2ba19edaa8b6998634d",
        "trusted": true
      },
      "cell_type": "code",
      "source": "def best_items(racers):\n    \"\"\"Given a list of racer dictionaries, return a dictionary mapping items to the number\n    of times those items were picked up by racers who finished in first place.\n    \"\"\"\n    winner_item_counts = {}\n    for i in range(len(racers)):\n        # The i'th racer dictionary\n        racer = racers[i]\n        # We're only interested in racers who finished in first\n        if racer['finish'] == 1:\n            for i in racer['items']:\n                # Add one to the count for this item (adding it to the dict if necessary)\n                if i not in winner_item_counts:\n                    winner_item_counts[i] = 0\n                winner_item_counts[i] += 1\n\n        # Data quality issues :/ Print a warning about racers with no name set. We'll take care of it later.\n        if racer['name'] is None:\n            print(\"WARNING: Encountered racer with unknown name on iteration {}/{} (racer = {})\".format(\n                i+1, len(racers), racer['name'])\n                 )\n    return winner_item_counts",
      "execution_count": 32,
      "outputs": []
    },
    {
      "metadata": {
        "_uuid": "c75ab28066b80f95f7d64270a47d05af96121639"
      },
      "cell_type": "markdown",
      "source": "He tried it on a small example list above and it seemed to work correctly:"
    },
    {
      "metadata": {
        "_uuid": "5b74ded1f19fefd5937c7f239079f262fb767017",
        "trusted": true
      },
      "cell_type": "code",
      "source": "sample = [\n    {'name': 'Peach', 'items': ['green shell', 'banana', 'green shell',], 'finish': 3},\n    {'name': 'Bowser', 'items': ['green shell',], 'finish': 1},\n    {'name': None, 'items': ['mushroom',], 'finish': 2},\n    {'name': 'Toad', 'items': ['green shell', 'mushroom'], 'finish': 1},\n]\nbest_items(sample)",
      "execution_count": 33,
      "outputs": [
        {
          "output_type": "stream",
          "text": "WARNING: Encountered racer with unknown name on iteration 3/4 (racer = None)\n",
          "name": "stdout"
        },
        {
          "output_type": "execute_result",
          "execution_count": 33,
          "data": {
            "text/plain": "{'green shell': 2, 'mushroom': 1}"
          },
          "metadata": {}
        }
      ]
    },
    {
      "metadata": {
        "_uuid": "3c346403f6033f09214c1ef93fbcedc22fdd49c6"
      },
      "cell_type": "markdown",
      "source": "However, when he tried running it on his full dataset, the program crashed with a `TypeError`.\n\nCan you guess why? Try running the code cell below to see the error message Luigi is getting. Once you've identified the bug, fix it in the cell below (so that it runs without any errors).\n\nHint: Luigi's bug is similar to one we encountered in the [tutorial](https://www.kaggle.com/colinmorris/working-with-external-libraries) when we talked about star imports."
    },
    {
      "metadata": {
        "_uuid": "d922ff62dad520d037362e61ef688baafdb710bd",
        "trusted": true
      },
      "cell_type": "code",
      "source": "# Import luigi's full dataset of race data\nfrom learntools.python.luigi_analysis import full_dataset\n\n# Fix me!\ndef best_items(racers):\n    winner_item_counts = {}\n    for i in range(len(racers)):\n        # The i'th racer dictionary\n        racer = racers[i]\n        # We're only interested in racers who finished in first\n        if racer['finish'] == 1:\n            for item in racer['items']:\n                # Add one to the count for this item (adding it to the dict if necessary)\n                if item not in winner_item_counts:\n                    winner_item_counts[item] = 0\n                winner_item_counts[item] += 1\n\n        # Data quality issues :/ Print a warning about racers with no name set. We'll take care of it later.\n        if racer['name'] is None:\n            print(\"WARNING: Encountered racer with unknown name on iteration {}/{} (racer = {})\".format(\n                i+1, len(racers), racer['name'])\n                 )\n    return winner_item_counts\n\n# Try analyzing the imported full dataset\nbest_items(full_dataset)",
      "execution_count": 46,
      "outputs": [
        {
          "output_type": "stream",
          "text": "WARNING: Encountered racer with unknown name on iteration 4/8 (racer = None)\nWARNING: Encountered racer with unknown name on iteration 6/8 (racer = None)\n",
          "name": "stdout"
        },
        {
          "output_type": "execute_result",
          "execution_count": 46,
          "data": {
            "text/plain": "{'banana': 1, 'blue shell': 1, 'green shell': 4, 'red shell': 1, 'star': 1}"
          },
          "metadata": {}
        }
      ]
    },
    {
      "metadata": {
        "_uuid": "8fd65f1e853c5ed5021435778f8081212f416d06",
        "trusted": true,
        "collapsed": true
      },
      "cell_type": "code",
      "source": "#q2.hint()",
      "execution_count": null,
      "outputs": []
    },
    {
      "metadata": {
        "_uuid": "746b82a1814e9171cceeb1ed84205650d91a56ae",
        "trusted": true
      },
      "cell_type": "code",
      "source": "#q2.solution()",
      "execution_count": 47,
      "outputs": []
    },
    {
      "metadata": {
        "_uuid": "972dcc9a859adaa0fdd676234746e80d527e6df6"
      },
      "cell_type": "markdown",
      "source": "## 3. <span title=\"A bit spicy\" style=\"color: darkgreen \">🌶️</span>\n\nSuppose we wanted to create a new type to represent hands in blackjack. One thing we might want to do with this type is overload the comparison operators like `>` and `<=` so that we could use them to check whether one hand beats another. e.g. it'd be cool if we could do this:\n\n```python\n>>> hand1 = BlackjackHand(['K', 'A'])\n>>> hand2 = BlackjackHand(['7', '10', 'A'])\n>>> hand1 > hand2\nTrue\n```\n\nWell, we're not going to do all that in this question (defining custom classes is a bit beyond the scope of these lessons), but the code we're asking you to write in the function below is very similar to what we'd have to write if we were defining our own `BlackjackHand` class. (We'd put it in the `__gt__` magic method to define our custom behaviour for `>`.)\n\nFill in the body of the `blackjack_hand_greater_than` function according to the docstring."
    },
    {
      "metadata": {
        "_uuid": "4b4128dcad503a6432231d1eaa81e1e5c91141cd",
        "trusted": true
      },
      "cell_type": "code",
      "source": "def blackjack_hand_greater_than(hand_1, hand_2):\n    \"\"\"\n    Return True if hand_1 beats hand_2, and False otherwise.\n    \n    In order for hand_1 to beat hand_2 the following must be true:\n    - The total of hand_1 must not exceed 21\n    - The total of hand_1 must exceed the total of hand_2 OR hand_2's total must exceed 21\n    \n    Hands are represented as a list of cards. Each card is represented by a string.\n    \n    When adding up a hand's total, cards with numbers count for that many points. Face\n    cards ('J', 'Q', and 'K') are worth 10 points. 'A' can count for 1 or 11.\n    \n    When determining a hand's total, you should try to count aces in the way that \n    maximizes the hand's total without going over 21. e.g. the total of ['A', 'A', '9'] is 21,\n    the total of ['A', 'A', '9', '3'] is 14.\n    \n    Examples:\n    >>> blackjack_hand_greater_than(['K'], ['3', '4'])\n    True\n    >>> blackjack_hand_greater_than(['K'], ['10'])\n    False\n    >>> blackjack_hand_greater_than(['K', 'K', '2'], ['3'])\n    False\n    \"\"\"\n    hand_1_total = 0\n    aces = 0\n    for card in hand_1:\n        if card in ['J', 'Q', 'K']:\n            hand_1_total += 10\n        elif card=='A':\n            aces += 1\n        else:\n            hand_1_total += int(card)\n    aces = hand_1.count('A')\n    hand_1_total += aces\n    while hand_1_total<12 and aces>0:\n        hand_1_total += 10\n        aces -= 1\n        \n    hand_2_total = 0\n    aces = 0\n    for card in hand_2:\n        if card in ['J', 'Q', 'K']:\n            hand_2_total += 10\n        elif card=='A':\n            aces += 1\n        else:\n            hand_2_total += int(card)\n    hand_2_total += aces\n    while hand_2_total<12 and aces>0:\n        hand_2_total += 10\n        aces -= 1\n    \n    if hand_1_total<22 and (hand_1_total>hand_2_total or hand_2_total>21):\n        return True\n    else:\n        return False\nq3.check()",
      "execution_count": 49,
      "outputs": [
        {
          "output_type": "display_data",
          "data": {
            "text/plain": "Correct",
            "text/markdown": "<span style=\"color:#33cc33\">Correct</span>"
          },
          "metadata": {}
        }
      ]
    },
    {
      "metadata": {
        "collapsed": true,
        "_uuid": "7df3b8a2b529c4328ca9d5ec78dff551159a6478",
        "trusted": false
      },
      "cell_type": "code",
      "source": "#q3.hint()\n#q3.solution()",
      "execution_count": null,
      "outputs": []
    },
    {
      "metadata": {
        "_uuid": "245d42beb0cfbedc624494b903fbf74c264c3441"
      },
      "cell_type": "markdown",
      "source": "## 4. <span title=\"Spicy\" style=\"color: coral\">🌶️🌶️</span>\n\nIn [the previous set of exercises](https://www.kaggle.com/kernels/fork/1275185), you heard a tip-off that the roulette tables at the Learn Python Casino had some quirk where the probability of landing on a particular number was partly dependent on the number the wheel most recently landed on. You wrote a function `conditional_roulette_probs` which returned a dictionary with counts of how often the wheel landed on `x` then `y` for each value of `x` and `y`.\n\nAfter analyzing the output of your function, you've come to the following conclusion: for each wheel in the casino, there is exactly one pair of numbers `a` and `b`, such that, after the wheel lands on `a`, it's significantly more likely to land on `b` than any other number. If the last spin landed on anything other than `a`, then it acts like a normal roulette wheel, with equal probability of landing on any of the 11 numbers (* the casino's wheels are unusually small - they only have the numbers from 0 to 10 inclusive).\n\nIt's time to exploit this quirk for fun and profit. You'll be writing a roulette-playing agent to beat the house. When called, your agent will have an opportunity to sit down at one of the casino's wheels for 100 spins. You don't need to bet on every spin. For example, the agent below bets on a random number unless the last spin landed on 4 (in which case it just watches)."
    },
    {
      "metadata": {
        "_uuid": "d28173673948a388b26fcba3f424b08d809eaa8d",
        "trusted": true
      },
      "cell_type": "code",
      "source": "from learntools.python import roulette\nimport random\n\ndef random_and_superstitious(wheel):\n    \"\"\"Interact with the given wheel over 100 spins with the following strategy:\n    - if the wheel lands on 4, don't bet on the next spin\n    - otherwise, bet on a random number on the wheel (from 0 to 10)\n    \"\"\"\n    last_number = 0\n    while wheel.num_remaining_spins() > 0:\n        if last_number == 4:\n            # Unlucky! Don't bet anything.\n            guess = None\n        else:\n            guess = random.randint(0, 10)\n        last_number = wheel.spin(number_to_bet_on=guess)\n\nroulette.evaluate_roulette_strategy(random_and_superstitious)",
      "execution_count": 51,
      "outputs": [
        {
          "output_type": "stream",
          "text": "Report:\nseconds taken: 6.7\nRan 20,000 simulations with 100 spins each.\nAverage gain per simulation: $-8.62\nAverage # bets made: 91.0\nAverage # bets successful: 8.2 (9.1% success rate)\n",
          "name": "stdout"
        }
      ]
    },
    {
      "metadata": {
        "_uuid": "0ca7cba8b34858d43cb82830f115336724bf3cfd"
      },
      "cell_type": "markdown",
      "source": "As you might have guessed, our random/superstitious agent bleeds money. Can you write an agent that beats the house? (i.e. can you make \"Average gain per simulation\" positive?)\n\nFor more information on the type of object your agent will be passed, try calling `help(roulette.RouletteSession)`. You can also call `help(roulette.evaluate_roulette_strategy)` to see some optional parameters you can change regarding the conditions under which we test your  agent.\n\nHINT: it might help to go back to your [strings and dictionaries exercise notebook](https://www.kaggle.com/kernels/fork/1275185) and review your code for `conditional_roulette_probs` for inspiration."
    },
    {
      "metadata": {
        "_uuid": "8a049098e6e704f4d0d74959a4e20d281a9d06d5",
        "trusted": true
      },
      "cell_type": "code",
      "source": "def conditional_roulette_probs(history):\n    \"\"\"\n\n    Example: \n    conditional_roulette_probs([1, 3, 1, 5, 1])\n    > {1: {3: 0.5, 5: 0.5}, \n       3: {1: 1.0},\n       5: {1: 1.0}\n      }\n    \"\"\"\n    probs = {}\n    for num in set(history):\n        probs[num] = {}\n    for key in probs.keys():\n        after = []\n        for i, num in enumerate(history[:-1]):\n            if num==key:\n                after.append(history[i+1])\n        for num in set(after):\n            probs[key][num] = after.count(num)/len(after)\n    return probs\n\ndef my_agent(wheel):\n    history = {}\n    last_number = 0    \n    while wheel.num_remaining_spins() > 0:\n        # betting strategy\n        guess = None\n        if last_number in history:\n            last_number_hist = history[last_number]\n            top = max(last_number_hist,key=last_number_hist.get)\n            top_pct = last_number_hist[top] / sum(last_number_hist.values())\n            if top_pct >= .32:\n                guess = top\n        number = wheel.spin(number_to_bet_on=guess)\n\n        # add this role to the probabilities\n        if last_number not in history:\n            history[last_number] = {}\n        if number not in history[last_number]:\n            history[last_number][number] = 0\n        history[last_number][number] += 1\n\n        last_number = number\n\nroulette.evaluate_roulette_strategy(my_agent,num_simulations=10,num_spins_per_simulation=200000,biased_transition_prob=1)",
      "execution_count": null,
      "outputs": []
    },
    {
      "metadata": {
        "_uuid": "97301ddaedfa8e2793fc69d9b9a385233481ee45"
      },
      "cell_type": "markdown",
      "source": "How much profit are you able to reach? Post your results on the forums to see how your strategy compares to others'."
    },
    {
      "metadata": {
        "_uuid": "04144a71d3bf6d365a8eaa4b5dc70d965d904af3"
      },
      "cell_type": "markdown",
      "source": "## The end\n\nYou've finished the Python course. Congrats!\n\nAs always, if you have any questions about these exercises, or anything else you encountered in the course, come to the [Learn Forum](https://kaggle.com/learn-forum).\n\nYou probably didn't put in all these hours of learning Python just to play silly games of chance, right? If you're interested in applying your newfound Python skills to some data science tasks, check out some of our other lessons on [Kaggle Learn](https://www.kaggle.com/learn/overview). Most of them are in Python, including our courses on...\n\n- [Pandas for data manipulation](https://www.kaggle.com/learn/pandas)\n- [Machine learning with scikit-learn](https://www.kaggle.com/learn/machine-learning)\n- [Data visualization](https://www.kaggle.com/learn/data-visualisation)\n- [Deep learning with TensorFlow](https://www.kaggle.com/learn/deep-learning)\n\nHappy Pythoning!"
    }
  ],
  "metadata": {
    "kernelspec": {
      "display_name": "Python 3",
      "language": "python",
      "name": "python3"
    },
    "language_info": {
      "name": "python",
      "version": "3.6.6",
      "mimetype": "text/x-python",
      "codemirror_mode": {
        "name": "ipython",
        "version": 3
      },
      "pygments_lexer": "ipython3",
      "nbconvert_exporter": "python",
      "file_extension": ".py"
    },
    "learntools_metadata": {
      "lesson_index": 6,
      "type": "exercise"
    }
  },
  "nbformat": 4,
  "nbformat_minor": 1
}