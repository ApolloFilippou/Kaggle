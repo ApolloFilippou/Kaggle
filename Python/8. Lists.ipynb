{
  "cells": [
    {
      "metadata": {
        "_uuid": "0765848eb230c90fec532099dba51ddd81fb7388"
      },
      "cell_type": "markdown",
      "source": "These exercises accompany the tutorial on [lists and tuples](https://www.kaggle.com/colinmorris/lists).\n\nAs always be sure to run the setup code below before working on the questions (and if you leave this notebook and come back later, don't forget to run the setup code again)."
    },
    {
      "metadata": {
        "_uuid": "0fb626cc0e8a9af7c4498dc2b1d82d77449db259",
        "trusted": true
      },
      "cell_type": "code",
      "source": "# SETUP. You don't need to worry for now about what this code does or how it works. If you're ever curious about the \n# code behind these exercises, it's available under an open source license here: https://github.com/Kaggle/learntools/\nfrom learntools.core import binder; binder.bind(globals())\nfrom learntools.python.ex4 import *\nprint('Setup complete.')",
      "execution_count": 1,
      "outputs": [
        {
          "output_type": "stream",
          "text": "Setup complete.\n",
          "name": "stdout"
        }
      ]
    },
    {
      "metadata": {
        "_uuid": "4aabfcb267fe603d6b21201ea7bc8af622cb0087"
      },
      "cell_type": "markdown",
      "source": "# Exercises"
    },
    {
      "metadata": {
        "_uuid": "7be71a9d5c66146b8bf5c148ea624227c5604710"
      },
      "cell_type": "markdown",
      "source": "## 1.\n\nComplete the function below according to its docstring."
    },
    {
      "metadata": {
        "_uuid": "0c417342e08ac17555ff299611bfd0c296546c12",
        "trusted": true
      },
      "cell_type": "code",
      "source": "def select_second(L):\n    \"\"\"Return the second element of the given list. If the list has no second\n    element, return None.\n    \"\"\"\n    return L[1] if len(L)>1 else None\nq1.check()",
      "execution_count": 2,
      "outputs": [
        {
          "output_type": "display_data",
          "data": {
            "text/plain": "Correct",
            "text/markdown": "<span style=\"color:#33cc33\">Correct</span>"
          },
          "metadata": {}
        }
      ]
    },
    {
      "metadata": {
        "collapsed": true,
        "_uuid": "16b3cde2b45a99e87cf20abde8555a8ede4f53f2",
        "trusted": false
      },
      "cell_type": "code",
      "source": "#q1.hint()\n#q1.solution()",
      "execution_count": null,
      "outputs": []
    },
    {
      "metadata": {
        "_uuid": "da4090bd994051e96160e4bce2945584f139d245"
      },
      "cell_type": "markdown",
      "source": "## 2.\n\nYou are analyzing sports teams.  Members of each team are stored in a list. The Coach is the first name in the list, the captain is the second name in the list, and other players are listed after that. \nThese lists are stored in another list, which starts with the best team and proceeds through the list to the worst team last.  Complete the function below to select the **captain** of the worst team."
    },
    {
      "metadata": {
        "_uuid": "4a695e1d36501a6b035704f493eac1c447c2748f",
        "trusted": true
      },
      "cell_type": "code",
      "source": "def losing_team_captain(teams):\n    \"\"\"Given a list of teams, where each team is a list of names, return the 2nd player (captain)\n    from the last listed team\n    \"\"\"\n    return teams[-1][1]\n\nq2.check()",
      "execution_count": 3,
      "outputs": [
        {
          "output_type": "display_data",
          "data": {
            "text/plain": "Correct",
            "text/markdown": "<span style=\"color:#33cc33\">Correct</span>"
          },
          "metadata": {}
        }
      ]
    },
    {
      "metadata": {
        "collapsed": true,
        "_uuid": "e05edc3a69da6e5d62b9bff0fcc9a639ce0d88c6",
        "trusted": false
      },
      "cell_type": "code",
      "source": "#q2.hint()\n#q2.solution()",
      "execution_count": null,
      "outputs": []
    },
    {
      "metadata": {
        "_uuid": "8abb532f372c27585149e2a78f1ebedab2fa5831"
      },
      "cell_type": "markdown",
      "source": "## 3.\n\nThe next iteration of Mario Kart will feature an extra-infuriating new item, the *Purple Shell*. When used, it warps the last place racer into first place and the first place racer into last place. Complete the function below to implement the Purple Shell's effect."
    },
    {
      "metadata": {
        "_uuid": "b00480ab11e36578229aee4f4e0691d0ed7d1f96",
        "trusted": true
      },
      "cell_type": "code",
      "source": "def purple_shell(racers):\n    \"\"\"Given a list of racers, set the first place racer (at the front of the list) to last\n    place and vice versa.\n    \n    >>> r = [\"Mario\", \"Bowser\", \"Luigi\"]\n    >>> purple_shell(r)\n    >>> r\n    [\"Luigi\", \"Bowser\", \"Mario\"]\n    \"\"\"\n    racers[0], racers[-1] = racers[-1], racers[0]\n\nq3.check()",
      "execution_count": 6,
      "outputs": [
        {
          "output_type": "display_data",
          "data": {
            "text/plain": "Correct",
            "text/markdown": "<span style=\"color:#33cc33\">Correct</span>"
          },
          "metadata": {}
        }
      ]
    },
    {
      "metadata": {
        "collapsed": true,
        "_uuid": "ed73bf40fb11c80254bbc3daa47e5861d4261601",
        "trusted": false
      },
      "cell_type": "code",
      "source": "#q3.hint()\n#q3.solution()",
      "execution_count": null,
      "outputs": []
    },
    {
      "metadata": {
        "_uuid": "9a7d15c6d5011c8250760d5bfd316a0ff0b3f721"
      },
      "cell_type": "markdown",
      "source": "## 4.\n\nWhat are the lengths of the following lists? Fill in the variable `lengths` with your predictions. (Try to make a prediction for each list *without* just calling `len()` on it.)"
    },
    {
      "metadata": {
        "_uuid": "d10e64920f47953e243c764027a138cffecf2760",
        "trusted": true
      },
      "cell_type": "code",
      "source": "a = [1, 2, 3]\nb = [1, [2, 3]]\nc = []\nd = [1, 2, 3][1:]\n\n# Put your predictions in the list below. Lengths should contain 4 numbers, the\n# first being the length of a, the second being the length of b and so on.\nlengths = [3, 2, 0, 2]\n\nq4.check()",
      "execution_count": 7,
      "outputs": [
        {
          "output_type": "display_data",
          "data": {
            "text/plain": "Correct: \n\n\n- a: There are three items in this list. Nothing tricky yet.\n- b: The list `[2, 3]` counts as a single item. It has one item before it. So we have 2 items in the list\n- c: The empty list has 0 items\n- d: The expression is the same as the list `[2, 3]`, which has length 2.",
            "text/markdown": "<span style=\"color:#33cc33\">Correct:</span> \n\n\n- a: There are three items in this list. Nothing tricky yet.\n- b: The list `[2, 3]` counts as a single item. It has one item before it. So we have 2 items in the list\n- c: The empty list has 0 items\n- d: The expression is the same as the list `[2, 3]`, which has length 2."
          },
          "metadata": {}
        }
      ]
    },
    {
      "metadata": {
        "collapsed": true,
        "_uuid": "7761a653f1d324c0448ef05044934b50d7095171",
        "trusted": false
      },
      "cell_type": "code",
      "source": "# line below provides some explanation\n#q4.solution()",
      "execution_count": null,
      "outputs": []
    },
    {
      "metadata": {
        "_uuid": "85f1b504a1d929631dc6d4f6ea40567de97eed04"
      },
      "cell_type": "markdown",
      "source": "## 5. <span title=\"A bit spicy\" style=\"color: darkgreen \">🌶️</span>\n\nWe're using lists to record people who attended our party and what order they arrived in. For example, the following list represents a party with 7 guests, in which Adela showed up first and Ford was the last to arrive:\n\n    party_attendees = ['Adela', 'Fleda', 'Owen', 'May', 'Mona', 'Gilbert', 'Ford']\n\nA guest is considered 'fashionably late' if they arrived after at least half of the party's guests. However, they must not be the very last guest (that's taking it too far). In the above example, Mona and Gilbert are the only guests who were fashionably late.\n\nComplete the function below which takes a list of party attendees as well as a person, and tells us whether that person is fashionably late."
    },
    {
      "metadata": {
        "_uuid": "d4ba11582e9ea7e06946f933b8f2e6d7949764ed",
        "trusted": true
      },
      "cell_type": "code",
      "source": "def fashionably_late(arrivals, name):\n    \"\"\"Given an ordered list of arrivals to the party and a name, return whether the guest with that\n    name was fashionably late.\n    \"\"\"\n    return arrivals.index(name)>(len(arrivals)-1)/2 and arrivals[-1]!=name\n\nq5.check()",
      "execution_count": 9,
      "outputs": [
        {
          "output_type": "display_data",
          "data": {
            "text/plain": "Correct",
            "text/markdown": "<span style=\"color:#33cc33\">Correct</span>"
          },
          "metadata": {}
        }
      ]
    },
    {
      "metadata": {
        "collapsed": true,
        "_uuid": "a55014143c4332b3935895d3ee5afa7b41ffe531",
        "trusted": false
      },
      "cell_type": "code",
      "source": "#q5.hint()\n#q5.solution()",
      "execution_count": null,
      "outputs": []
    },
    {
      "metadata": {
        "_uuid": "9557136b0254bb033ccbc0931c6f3c832c07f794"
      },
      "cell_type": "markdown",
      "source": "## 6. <span style=\"color: firebrick\" title=\"This is an optional extra-spicy question\">🌶️🌶️🌶️</span>\n\n*This question is intended more as a fun riddle than a test of your programming prowess :)*\n\nImplement the body of the following function **using only tools we've covered so far - NO LOOPS!**"
    },
    {
      "metadata": {
        "_uuid": "49f7401e4cb98cd6c4f5b7d9f3f11ec5b8275a51",
        "trusted": true
      },
      "cell_type": "code",
      "source": "def count_negatives(nums):\n    \"\"\"Return the number of negative numbers in the given list.\n    \n    >>> count_negatives([5, -1, -2, 0, 3])\n    2\n    \"\"\"\n    return sum([1 for x in nums if x<0])\n\nq6.check()",
      "execution_count": 15,
      "outputs": [
        {
          "output_type": "display_data",
          "data": {
            "text/plain": "Correct: \n\n\nHere's a non-obvious solution using only tools shown in the tutorial notebook:\n```python\ndef count_negatives(nums):\n    nums.append(0)\n    # We could also have used the list.sort() method, which modifies a list, putting it in sorted order.\n    nums = sorted(nums)\n    return nums.index(0)\n```\n\nThe above implementation relies on the fact that `list.index` returns the index of the *first* occurrence of a value. (You can verify this by calling `help(list.index)`.) So if, after sorting the list in ascending order, the value 0 is at index 0, then the number of negatives is 0. If 0 is at index 2 (i.e. the third element), then there are two elements smaller than 0. And so on.\n\n*Note*: it's usually considered \"impolite\" to modify a list that someone passes to your function without giving them some warning (i.e. unless the docstring says that it modifies its input). So, if we wanted to be nice, we could have started by making a copy of nums using the `list.copy()` method (e.g. `our_nums = nums.copy()`), and then working with that copy rather than the original.\n\nIf you're a big Lisp fan (and based on the pre-challenge survey I know there's at least one of you out there!) you might have written this technically compliant solution (we haven't talked about recursion, but I guess this doesn't use any syntax or functions we haven't seen yet...):\n\n```python\ndef count_negatives(nums):\n    # Equivalent to \"if len(nums) == 0\". An empty list is 'falsey'.\n    if not nums:\n        return 0\n    else:\n        # Implicitly converting a boolean to an int! See question 6 of the day\n        # 3 exercises.\n        return (nums[0] < 0) + count_negatives(nums[1:])\n```",
            "text/markdown": "<span style=\"color:#33cc33\">Correct:</span> \n\n\nHere's a non-obvious solution using only tools shown in the tutorial notebook:\n```python\ndef count_negatives(nums):\n    nums.append(0)\n    # We could also have used the list.sort() method, which modifies a list, putting it in sorted order.\n    nums = sorted(nums)\n    return nums.index(0)\n```\n\nThe above implementation relies on the fact that `list.index` returns the index of the *first* occurrence of a value. (You can verify this by calling `help(list.index)`.) So if, after sorting the list in ascending order, the value 0 is at index 0, then the number of negatives is 0. If 0 is at index 2 (i.e. the third element), then there are two elements smaller than 0. And so on.\n\n*Note*: it's usually considered \"impolite\" to modify a list that someone passes to your function without giving them some warning (i.e. unless the docstring says that it modifies its input). So, if we wanted to be nice, we could have started by making a copy of nums using the `list.copy()` method (e.g. `our_nums = nums.copy()`), and then working with that copy rather than the original.\n\nIf you're a big Lisp fan (and based on the pre-challenge survey I know there's at least one of you out there!) you might have written this technically compliant solution (we haven't talked about recursion, but I guess this doesn't use any syntax or functions we haven't seen yet...):\n\n```python\ndef count_negatives(nums):\n    # Equivalent to \"if len(nums) == 0\". An empty list is 'falsey'.\n    if not nums:\n        return 0\n    else:\n        # Implicitly converting a boolean to an int! See question 6 of the day\n        # 3 exercises.\n        return (nums[0] < 0) + count_negatives(nums[1:])\n```"
          },
          "metadata": {}
        }
      ]
    },
    {
      "metadata": {
        "collapsed": true,
        "_uuid": "be11ea214f67a15cea4d0cf7547ec382937a907d",
        "trusted": false
      },
      "cell_type": "code",
      "source": "#q6.hint()",
      "execution_count": null,
      "outputs": []
    },
    {
      "metadata": {
        "collapsed": true,
        "_uuid": "191aab8f7cb6fff28f1bdb03df0875a1776899a6",
        "trusted": false
      },
      "cell_type": "code",
      "source": "#q6.solution()",
      "execution_count": null,
      "outputs": []
    },
    {
      "metadata": {
        "_uuid": "78e153db6033334f4d8294e10f3a9933f68a1321"
      },
      "cell_type": "markdown",
      "source": "That's it for lists and tuples! If you have any questions or feedback (or just want to argue about whether Pluto should be a planet), head over to the [forums](https://kaggle.com/learn-forum).\n\nRemember that your notebook is private by default, and in order to share it with other people or ask for help with it, you'll need to make it public. First, you'll need to save a version of your notebook that shows your current work by hitting the \"Commit & Run\" button. (Your work is saved automatically, but versioning your work lets you go back and look at what it was like at the point you saved it. It also let's you share a nice compiled notebook instead of just the raw code.) Then, once your notebook is finished running, you can go to the Settings tab in the panel to the left (you may have to expand it by hitting the [<] button next to the \"Commit & Run\" button) and setting the \"Visibility\" dropdown to \"Public\".\n\n# Keep Going\n\nWhen you're ready to continue, [click here](https://www.kaggle.com/colinmorris/loops-and-list-comprehensions) to continue on to the next tutorial on loops and list comprehensions."
    }
  ],
  "metadata": {
    "kernelspec": {
      "display_name": "Python 3",
      "language": "python",
      "name": "python3"
    },
    "language_info": {
      "name": "python",
      "version": "3.6.6",
      "mimetype": "text/x-python",
      "codemirror_mode": {
        "name": "ipython",
        "version": 3
      },
      "pygments_lexer": "ipython3",
      "nbconvert_exporter": "python",
      "file_extension": ".py"
    },
    "learntools_metadata": {
      "lesson_index": 3,
      "type": "exercise"
    }
  },
  "nbformat": 4,
  "nbformat_minor": 1
}