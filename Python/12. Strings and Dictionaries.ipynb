{
  "cells": [
    {
      "metadata": {
        "_uuid": "9a5d902fd19ceb1988774ef6e117cb2f0fd66f18"
      },
      "cell_type": "markdown",
      "source": "These exercises accompany the tutorial on [strings and dictionaries](https://www.kaggle.com/colinmorris/strings-and-dictionaries).\n\nRun the setup code below before working on the questions (and run it again if you leave this notebook and come back later)."
    },
    {
      "metadata": {
        "_uuid": "8bb8c355865fe1934c54dc0534810e6876ecd08d",
        "trusted": true
      },
      "cell_type": "code",
      "source": "# SETUP. You don't need to worry for now about what this code does or how it works. If you're ever curious about the \n# code behind these exercises, it's available under an open source license here: https://github.com/Kaggle/learntools/\nfrom learntools.core import binder; binder.bind(globals())\nfrom learntools.python.ex6 import *\nprint('Setup complete.')",
      "execution_count": 95,
      "outputs": [
        {
          "output_type": "stream",
          "text": "WARNING:root:Ignoring repeated attempt to bind to globals\n",
          "name": "stderr"
        },
        {
          "output_type": "stream",
          "text": "Setup complete.\n",
          "name": "stdout"
        }
      ]
    },
    {
      "metadata": {
        "_uuid": "2ad9ce6a108f17aafc2051d59c6f15c7482de7a0"
      },
      "cell_type": "markdown",
      "source": "# Exercises"
    },
    {
      "metadata": {
        "_uuid": "e604988bb446b80f6cb7a78f11c4706dd3592c97"
      },
      "cell_type": "markdown",
      "source": "## 0. \n\nLet's start with a string lightning round to warm up. What are the lengths of the strings below?\n\nFor each of the five strings below, predict what `len()` would return when passed that string. Use the variable `length` to record your answer, then run the cell to check whether you were right."
    },
    {
      "metadata": {
        "_uuid": "7c7feb403d222b7bbb3866aaedd90536f8317c5c",
        "trusted": true,
        "collapsed": true
      },
      "cell_type": "code",
      "source": "a = \"\"\nlength = 0\nq0.a.check()",
      "execution_count": null,
      "outputs": []
    },
    {
      "metadata": {
        "_uuid": "3bcf40a9e72b4aa00f9618d18ee3cebb21d31844",
        "trusted": true,
        "collapsed": true
      },
      "cell_type": "code",
      "source": "b = \"it's ok\"\nlength = 7\nq0.b.check()",
      "execution_count": null,
      "outputs": []
    },
    {
      "metadata": {
        "_uuid": "6fc68069010dd74942c96b64c2ec9051927dace1",
        "trusted": true,
        "collapsed": true
      },
      "cell_type": "code",
      "source": "c = 'it\\'s ok'\nlength = 7\nq0.c.check()",
      "execution_count": null,
      "outputs": []
    },
    {
      "metadata": {
        "_uuid": "72777de729f7a4ea7cf78d901d71780d1e681bda",
        "trusted": true,
        "collapsed": true
      },
      "cell_type": "code",
      "source": "d = \"\"\"hey\"\"\"\nlength = 3\nq0.d.check()",
      "execution_count": null,
      "outputs": []
    },
    {
      "metadata": {
        "_uuid": "834b22c7115a99738ca98b641c93bd821c6761f0",
        "trusted": true,
        "collapsed": true
      },
      "cell_type": "code",
      "source": "e = '\\n'\nlength = 1\nq0.e.check()",
      "execution_count": null,
      "outputs": []
    },
    {
      "metadata": {
        "_uuid": "408be01ca7ab80aafac5110e874cc3e925e2e2cd"
      },
      "cell_type": "markdown",
      "source": "## 1.\n\nThere is a saying that \"Data scientists spend 80% of their time cleaning data, and 20% of their time complaining about cleaning data.\" Let's see if you can write a function to help clean US zip code data. Given a string, it should return whether or not that string represents a valid zip code. For our purposes, a valid zip code is any string consisting of exactly 5 digits.\n\nHINT: `str` has a method that will be useful here. Use `help(str)` to review a list of string methods."
    },
    {
      "metadata": {
        "_uuid": "18e623cde703f4b6501cfa622ecf7b7b0b20b39c",
        "trusted": true,
        "collapsed": true
      },
      "cell_type": "code",
      "source": "def is_valid_zip(zip_code):\n    \"\"\"Returns whether the input string is a valid (5 digit) zip code\n    \"\"\"\n    return len(zip_code)==5 and zip_code.isdigit()\n\nq1.check()",
      "execution_count": null,
      "outputs": []
    },
    {
      "metadata": {
        "collapsed": true,
        "_uuid": "f07ed680e6997aad27fba6bd41c0f11de2b828c8",
        "trusted": false
      },
      "cell_type": "code",
      "source": "#q1.hint()\n#q1.solution()",
      "execution_count": null,
      "outputs": []
    },
    {
      "metadata": {
        "_uuid": "474ac8fbf38a380dfa34196f1aa499eb519d3d0b"
      },
      "cell_type": "markdown",
      "source": "## 2.\n\nA researcher has gathered thousands of news articles. But she wants to focus her attention on articles including a specific word. Complete the function below to help her filter her list of articles.\n\nYour function should meet the following criteria\n\n- Do not include documents where the keyword string shows up only as a part of a larger word. For example, if she were looking for the keyword “closed”, you would not include the string “enclosed.” \n- She does not want you to distinguish upper case from lower case letters. So the phrase “Closed the case.” would be included when the keyword is “closed”\n- Do not let periods or commas affect what is matched. “It is closed.” would be included when the keyword is “closed”. But you can assume there are no other types of punctuation."
    },
    {
      "metadata": {
        "_uuid": "16984e4b8adfdd36f744e5fa07b950e2e05ec80a",
        "trusted": true,
        "collapsed": true
      },
      "cell_type": "code",
      "source": "def word_search(doc_list, keyword):\n    \"\"\"\n    Takes a list of documents (each document is a string) and a keyword. \n    Returns list of the index values into the original list for all documents \n    containing the keyword.\n\n    Example:\n    doc_list = [\"The Learn Python Challenge Casino.\", \"They bought a car\", \"Casinoville\"]\n    >>> word_search(doc_list, 'casino')\n    >>> [0]\n    \"\"\"\n    idx = []\n    for i, doc in enumerate(doc_list):\n        words = doc.split()\n        if keyword in [word.strip('.,').lower() for word in words]:\n            idx.append(i)\n    return idx\n\n\nq2.check()",
      "execution_count": null,
      "outputs": []
    },
    {
      "metadata": {
        "_uuid": "82adcf00cac5e0e087aef7b373adc33b031a3552",
        "trusted": true,
        "collapsed": true
      },
      "cell_type": "code",
      "source": "#q2.hint()\n#q2.solution()",
      "execution_count": null,
      "outputs": []
    },
    {
      "metadata": {
        "_uuid": "52c72905d28dbb7a21996dae49a3a6df04184595"
      },
      "cell_type": "markdown",
      "source": "## 3.\n\nNow the researcher wants to supply multiple keywords to search for. Complete the function below to help her.\n\n(You're encouraged to use the `word_search` function you just wrote when implementing this function. Reusing code in this way makes your programs more robust and readable - and it saves typing!)"
    },
    {
      "metadata": {
        "_uuid": "db302ceeb64eaa8916e7762a2eb57a18f23c9033",
        "trusted": true,
        "collapsed": true
      },
      "cell_type": "code",
      "source": "def multi_word_search(doc_list, keywords):\n    \"\"\"\n    Takes list of documents (each document is a string) and a list of keywords.  \n    Returns a dictionary where each key is a keyword, and the value is a list of indices\n    (from doc_list) of the documents containing that keyword\n\n    >>> doc_list = [\"The Learn Python Challenge Casino.\", \"They bought a car and a casino\", \"Casinoville\"]\n    >>> keywords = ['casino', 'they']\n    >>> multi_word_search(doc_list, keywords)\n    {'casino': [0, 1], 'they': [1]}\n    \"\"\"\n    multi = {}\n    for key in keywords:\n        multi[key] = word_search(doc_list, key)\n    return multi\n\nq3.check()",
      "execution_count": null,
      "outputs": []
    },
    {
      "metadata": {
        "collapsed": true,
        "_uuid": "9e6ba719a13ea163ec8f321910fcf94e9286dcbd",
        "trusted": false
      },
      "cell_type": "code",
      "source": "#q3.solution()",
      "execution_count": null,
      "outputs": []
    },
    {
      "metadata": {
        "_uuid": "e2346e1fc045d6941f046a57e26f893e1c407bc5"
      },
      "cell_type": "markdown",
      "source": "## 4. <span title=\"Spicy\" style=\"color: coral\">🌶️🌶️</span>\n\nDiamonds are beautiful, but they are just so expensive. Write a python program to create counterfeit ASCII diamonds such as the following:\n```\n    /\\\n   //\\\\\n  ///\\\\\\\n ////\\\\\\\\\n/////\\\\\\\\\\\n\\\\\\\\\\/////\n \\\\\\\\////\n  \\\\\\///\n   \\\\//\n    \\/\n```\n\nYour function should allow the caller to choose the size of the diamond (in terms of number of lines). The above diamond has a height of 10. Here's a 4-line diamond:\n\n```\n /\\ \n//\\\\\n\\\\//\n \\/ \n```\n\n(You can assume your function will only be called with even numbers)"
    },
    {
      "metadata": {
        "_uuid": "c568f68a30984d1698bfa9f1ef8e7f55e6c4adc1",
        "trusted": true
      },
      "cell_type": "code",
      "source": "def diamond(height):\n    \"\"\"Return a string resembling a diamond of specified height (measured in lines).\n    height must be an even integer.\n    \"\"\"\n    diamond = []\n    for i in range(1,height//2+1):\n        diamond.append((height//2-i)*' '+'/'*i+'\\\\'*i+(height//2-i)*' ')\n    for i in range(height//2, 0, -1):\n        diamond.append((height//2-i)*' '+'\\\\'*i+'/'*i+(height//2-i)*' ')\n    diamond = '\\n'.join(diamond)\n    return diamond\nq4.check()",
      "execution_count": 103,
      "outputs": [
        {
          "output_type": "display_data",
          "data": {
            "text/plain": "Correct",
            "text/markdown": "<span style=\"color:#33cc33\">Correct</span>"
          },
          "metadata": {}
        }
      ]
    },
    {
      "metadata": {
        "_uuid": "2157af99ad1133e418a0b06d5d98c2c3b20b2e66"
      },
      "cell_type": "markdown",
      "source": "We've provided an example height-4 diamond below as a Python string. It may help to inspect it in the console."
    },
    {
      "metadata": {
        "_uuid": "2c402155d90820b190ec728087715161cdd30b9c",
        "trusted": true,
        "collapsed": true
      },
      "cell_type": "code",
      "source": "d4 = \"\"\" /\\\\ \n//\\\\\\\\\n\\\\\\\\//\n \\\\/ \"\"\"\nprint(d4)",
      "execution_count": null,
      "outputs": []
    },
    {
      "metadata": {
        "collapsed": true,
        "_uuid": "68b4f8e399ee3b5c760b82caed80ded765934ec4",
        "trusted": false
      },
      "cell_type": "code",
      "source": "#q4.hint()\n#q4.solution()",
      "execution_count": null,
      "outputs": []
    },
    {
      "metadata": {
        "_uuid": "a2c4069689c331801aefbafed7bf241990314aee"
      },
      "cell_type": "markdown",
      "source": "## 5. <span title=\"Spicy\" style=\"color: coral\">🌶️🌶️</span>\n\nDice may not have any memory, but apparently the roulette wheel at the Learn Challenge Casino does. You’ve received a tip-off that the wheel has some exploitable bias where the probability of landing on a given number changes depending on the number previously landed on. Analyze a list containing a history of roulette spins. \n\nReturn a dictionary where the keys are numbers on the roulette wheel, and the values are dictionaries mapping numbers on the wheel to probabilities, such that `d[n1][n2]` is an estimate of the probability that the next spin will land on n2, given that the previous spin landed on n1."
    },
    {
      "metadata": {
        "_uuid": "88d518bb915079abdba1f88c148a2658b4590bfc",
        "trusted": true
      },
      "cell_type": "code",
      "source": "def conditional_roulette_probs(history):\n    \"\"\"\n\n    Example: \n    conditional_roulette_probs([1, 3, 1, 5, 1])\n    > {1: {3: 0.5, 5: 0.5}, \n       3: {1: 1.0},\n       5: {1: 1.0}\n      }\n    \"\"\"\n    probs = {}\n    for num in set(history):\n        probs[num] = {}\n    for key in probs.keys():\n        after = []\n        for i, num in enumerate(history[:-1]):\n            if num==key:\n                after.append(history[i+1])\n        for num in set(after):\n            probs[key][num] = after.count(num)/len(after)\n    return probs\nq5.check()",
      "execution_count": 106,
      "outputs": [
        {
          "output_type": "display_data",
          "data": {
            "text/plain": "Correct",
            "text/markdown": "<span style=\"color:#33cc33\">Correct</span>"
          },
          "metadata": {}
        }
      ]
    },
    {
      "metadata": {
        "_uuid": "ab0158e33f9922cfaab58b8f4a10fb886528122e",
        "trusted": false,
        "collapsed": true
      },
      "cell_type": "code",
      "source": "#q5.solution()",
      "execution_count": null,
      "outputs": []
    },
    {
      "metadata": {
        "_uuid": "7bce15800c092ffe33f102e5c37b2c1ffe48dcc6"
      },
      "cell_type": "markdown",
      "source": "If you have any questions, be sure to post them on the [forums](https://www.kaggle.com/learn-forum).\n\nRemember that your notebook is private by default, and in order to share it with other people or ask for help with it, you'll need to make it public. First, you'll need to save a version of your notebook that shows your current work by hitting the \"Commit & Run\" button. (Your work is saved automatically, but versioning your work lets you go back and look at what it was like at the point you saved it. It also let's you share a nice compiled notebook instead of just the raw code.) Then, once your notebook is finished running, you can go to the Settings tab in the panel to the left (you may have to expand it by hitting the [<] button next to the \"Commit & Run\" button) and setting the \"Visibility\" dropdown to \"Public\".\n\n# Keep Going\n\nWhen you're ready to continue, [click here](https://www.kaggle.com/colinmorris/working-with-external-libraries) to continue on to the next tutorial on imports."
    }
  ],
  "metadata": {
    "kernelspec": {
      "display_name": "Python 3",
      "language": "python",
      "name": "python3"
    },
    "language_info": {
      "name": "python",
      "version": "3.6.6",
      "mimetype": "text/x-python",
      "codemirror_mode": {
        "name": "ipython",
        "version": 3
      },
      "pygments_lexer": "ipython3",
      "nbconvert_exporter": "python",
      "file_extension": ".py"
    },
    "learntools_metadata": {
      "lesson_index": 5,
      "type": "exercise"
    }
  },
  "nbformat": 4,
  "nbformat_minor": 1
}