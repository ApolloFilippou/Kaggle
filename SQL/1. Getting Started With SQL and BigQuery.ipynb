{
  "cells": [
    {
      "metadata": {
        "_uuid": "8f2839f25d086af736a60e9eeb907d3b93b6e0e5",
        "_cell_guid": "b1076dfc-b9ad-4769-8c92-a6c4dae69d19",
        "trusted": true,
        "collapsed": true
      },
      "cell_type": "code",
      "source": "import bq_helper\n# create a helper object for our bigquery dataset\nchicago_crime = bq_helper.BigQueryHelper(active_project= \"bigquery-public-data\", \n                                       dataset_name = \"chicago_crime\")",
      "execution_count": null,
      "outputs": []
    },
    {
      "metadata": {
        "_cell_guid": "79c7e3d0-c299-4dcb-8224-4455121ee9b0",
        "_uuid": "d629ff2d2480ee46fbb7e2d37f6b5fab8052498a",
        "trusted": true,
        "collapsed": true
      },
      "cell_type": "code",
      "source": "chicago_crime.list_tables()",
      "execution_count": null,
      "outputs": []
    },
    {
      "metadata": {
        "trusted": true,
        "_uuid": "3f44e989e04f60898cf58a8779609c57a6d7f737",
        "collapsed": true
      },
      "cell_type": "code",
      "source": "chicago_crime.table_schema('crime')",
      "execution_count": null,
      "outputs": []
    },
    {
      "metadata": {
        "trusted": true,
        "_uuid": "c33b5fb396c16f9378dfaadfe8c18428b459aff4",
        "collapsed": true
      },
      "cell_type": "code",
      "source": "chicago_crime.head('crime')",
      "execution_count": null,
      "outputs": []
    },
    {
      "metadata": {
        "trusted": true,
        "_uuid": "631ecf5e7c2ba8b4e52275788470d0ea6567e934",
        "collapsed": true
      },
      "cell_type": "code",
      "source": "chicago_crime.head('crime', selected_columns='primary_type', num_rows=10)",
      "execution_count": null,
      "outputs": []
    },
    {
      "metadata": {
        "trusted": true,
        "_uuid": "aac78b093d3bd6228d7a6cb27daf1c91cff52cdd",
        "collapsed": true
      },
      "cell_type": "code",
      "source": "query = \"\"\"SELECT description \n            FROM `bigquery-public-data.chicago_crime.crime`\n            WHERE location_description = \"RESIDENCE\" \"\"\"\nchicago_crime.estimate_query_size(query)",
      "execution_count": null,
      "outputs": []
    },
    {
      "metadata": {
        "trusted": true,
        "_uuid": "da26ec704d6ea37d08a0383bf24a9303821b21ea",
        "collapsed": true
      },
      "cell_type": "code",
      "source": "chicago_crime.query_to_pandas_safe(query, max_gb_scanned=0.1)",
      "execution_count": null,
      "outputs": []
    },
    {
      "metadata": {
        "trusted": true,
        "collapsed": true,
        "_uuid": "da2fbfb25c662d9693f03d48c9727a9ba6149b3e"
      },
      "cell_type": "code",
      "source": "residence_crimes = chicago_crime.query_to_pandas_safe(query)",
      "execution_count": null,
      "outputs": []
    },
    {
      "metadata": {
        "trusted": true,
        "_uuid": "8b997477f2294d3e5c730d24d35fc508f29670e5",
        "collapsed": true
      },
      "cell_type": "code",
      "source": "residence_crimes[residence_crimes.description=='POSS: COCAINE'].count()",
      "execution_count": null,
      "outputs": []
    }
  ],
  "metadata": {
    "kernelspec": {
      "display_name": "Python 3",
      "language": "python",
      "name": "python3"
    },
    "language_info": {
      "name": "python",
      "version": "3.6.5",
      "mimetype": "text/x-python",
      "codemirror_mode": {
        "name": "ipython",
        "version": 3
      },
      "pygments_lexer": "ipython3",
      "nbconvert_exporter": "python",
      "file_extension": ".py"
    }
  },
  "nbformat": 4,
  "nbformat_minor": 1
}