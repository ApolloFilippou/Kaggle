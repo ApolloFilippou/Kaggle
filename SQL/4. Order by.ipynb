{
  "cells": [
    {
      "metadata": {
        "_cell_guid": "892e4766-ec60-4e04-841d-8bee2ddf5cba",
        "_uuid": "fdc18884a7717170aee090a74d286950a369ebc8"
      },
      "cell_type": "markdown",
      "source": "# Get Started\n\nAfter forking this notebook, run the code in the following cell:"
    },
    {
      "metadata": {
        "_cell_guid": "97ff21a3-e21d-4eac-99f0-434337df239d",
        "_uuid": "648483445c532732bbfc664ae32f961bebc3369c",
        "collapsed": true,
        "trusted": true
      },
      "cell_type": "code",
      "source": "# import package with helper functions \nimport bq_helper\n\n# create a helper object for this dataset\naccidents = bq_helper.BigQueryHelper(active_project=\"bigquery-public-data\",\n                                   dataset_name=\"nhtsa_traffic_fatalities\")",
      "execution_count": 1,
      "outputs": []
    },
    {
      "metadata": {
        "_cell_guid": "f202fc66-31d4-4f78-8603-fdac21d8d3ca",
        "_uuid": "40e94f6a75f096799b5e2f51ab0c9ac9863c0b24"
      },
      "cell_type": "markdown",
      "source": "Then write the code to answer the questions below"
    },
    {
      "metadata": {
        "_cell_guid": "b1076dfc-b9ad-4769-8c92-a6c4dae69d19",
        "_uuid": "8f2839f25d086af736a60e9eeb907d3b93b6e0e5"
      },
      "cell_type": "markdown",
      "source": "# Questions\n\n#### 1) Which hours of the day do the most accidents occur during?\n* Return a table showing how many accidents occurred in each hour of the day in 2015, sorted by the the number of accidents which occurred each hour. Use either the accident_2015 or accident_2016 table for this, and the timestamp_of_crash column (there is an hour_of_crash column, but if you use that one you won't get a chance to practice with dates).\n\n**Hint:** You will probably want to use the [EXTRACT() function](https://cloud.google.com/bigquery/docs/reference/standard-sql/functions-and-operators#extract_1) for this.\n"
    },
    {
      "metadata": {
        "_cell_guid": "79c7e3d0-c299-4dcb-8224-4455121ee9b0",
        "_uuid": "d629ff2d2480ee46fbb7e2d37f6b5fab8052498a",
        "trusted": true
      },
      "cell_type": "code",
      "source": "query_hours = \"\"\"SELECT COUNT(consecutive_number), EXTRACT(HOUR FROM timestamp_of_crash)\n                FROM `bigquery-public-data.nhtsa_traffic_fatalities.accident_2015`\n                GROUP BY EXTRACT(HOUR FROM timestamp_of_crash)\n                ORDER BY 1 DESC\"\"\"\naccidents_by_hour = accidents.query_to_pandas_safe(query_hours)",
      "execution_count": 3,
      "outputs": [
        {
          "output_type": "execute_result",
          "execution_count": 3,
          "data": {
            "text/plain": "     f0_  f1_\n0   1895   18\n1   1862   20\n2   1838   17\n3   1811   21\n4   1784   19\n5   1686   15\n6   1650   16\n7   1554   22\n8   1513    0\n9   1511   14\n10  1387   13\n11  1334   23\n12  1226    1\n13  1223   12\n14  1207    2\n15  1202    6\n16  1146    7\n17  1126   11\n18  1019   10\n19  1000    5\n20   958    9\n21   946    3\n22   910    8\n23   751    4",
            "text/html": "<div>\n<style scoped>\n    .dataframe tbody tr th:only-of-type {\n        vertical-align: middle;\n    }\n\n    .dataframe tbody tr th {\n        vertical-align: top;\n    }\n\n    .dataframe thead th {\n        text-align: right;\n    }\n</style>\n<table border=\"1\" class=\"dataframe\">\n  <thead>\n    <tr style=\"text-align: right;\">\n      <th></th>\n      <th>f0_</th>\n      <th>f1_</th>\n    </tr>\n  </thead>\n  <tbody>\n    <tr>\n      <th>0</th>\n      <td>1895</td>\n      <td>18</td>\n    </tr>\n    <tr>\n      <th>1</th>\n      <td>1862</td>\n      <td>20</td>\n    </tr>\n    <tr>\n      <th>2</th>\n      <td>1838</td>\n      <td>17</td>\n    </tr>\n    <tr>\n      <th>3</th>\n      <td>1811</td>\n      <td>21</td>\n    </tr>\n    <tr>\n      <th>4</th>\n      <td>1784</td>\n      <td>19</td>\n    </tr>\n    <tr>\n      <th>5</th>\n      <td>1686</td>\n      <td>15</td>\n    </tr>\n    <tr>\n      <th>6</th>\n      <td>1650</td>\n      <td>16</td>\n    </tr>\n    <tr>\n      <th>7</th>\n      <td>1554</td>\n      <td>22</td>\n    </tr>\n    <tr>\n      <th>8</th>\n      <td>1513</td>\n      <td>0</td>\n    </tr>\n    <tr>\n      <th>9</th>\n      <td>1511</td>\n      <td>14</td>\n    </tr>\n    <tr>\n      <th>10</th>\n      <td>1387</td>\n      <td>13</td>\n    </tr>\n    <tr>\n      <th>11</th>\n      <td>1334</td>\n      <td>23</td>\n    </tr>\n    <tr>\n      <th>12</th>\n      <td>1226</td>\n      <td>1</td>\n    </tr>\n    <tr>\n      <th>13</th>\n      <td>1223</td>\n      <td>12</td>\n    </tr>\n    <tr>\n      <th>14</th>\n      <td>1207</td>\n      <td>2</td>\n    </tr>\n    <tr>\n      <th>15</th>\n      <td>1202</td>\n      <td>6</td>\n    </tr>\n    <tr>\n      <th>16</th>\n      <td>1146</td>\n      <td>7</td>\n    </tr>\n    <tr>\n      <th>17</th>\n      <td>1126</td>\n      <td>11</td>\n    </tr>\n    <tr>\n      <th>18</th>\n      <td>1019</td>\n      <td>10</td>\n    </tr>\n    <tr>\n      <th>19</th>\n      <td>1000</td>\n      <td>5</td>\n    </tr>\n    <tr>\n      <th>20</th>\n      <td>958</td>\n      <td>9</td>\n    </tr>\n    <tr>\n      <th>21</th>\n      <td>946</td>\n      <td>3</td>\n    </tr>\n    <tr>\n      <th>22</th>\n      <td>910</td>\n      <td>8</td>\n    </tr>\n    <tr>\n      <th>23</th>\n      <td>751</td>\n      <td>4</td>\n    </tr>\n  </tbody>\n</table>\n</div>"
          },
          "metadata": {}
        }
      ]
    },
    {
      "metadata": {
        "_cell_guid": "03b31732-290b-4685-9578-79903a98c004",
        "_uuid": "3ad56a7bbbb9197040721e77e3e506321e5de069"
      },
      "cell_type": "markdown",
      "source": "#### 2) Which state has the most hit and runs?\n* Return a table with the number of vehicles registered in each state that were involved in hit-and-run accidents, sorted by the number of hit and runs. Use either the vehicle_2015 or vehicle_2016 table for this, especially the registration_state_name and hit_and_run columns (it may be helpful to view the hit_and_run column to understand its contents).\n"
    },
    {
      "metadata": {
        "_cell_guid": "bd07ec8d-0369-46d3-a4fb-e9aaa7f83eb0",
        "_uuid": "c77efc001b887f3dc1e6c22fb1d9c0e8134f00ae",
        "trusted": true
      },
      "cell_type": "code",
      "source": "query_hit_run = \"\"\"SELECT COUNT(registration_state_name), hit_and_run\n                FROM `bigquery-public-data.nhtsa_traffic_fatalities.accident_2015`\n                ORDER BY hit_and_run\"\"\"\nhit_run = accidents.query_to_pandas_safe(query_hit_run)",
      "execution_count": 26,
      "outputs": [
        {
          "output_type": "execute_result",
          "execution_count": 26,
          "data": {
            "text/plain": "Index(['state_number', 'state_name', 'consecutive_number',\n       'number_of_vehicle_forms_submitted_all',\n       'number_of_motor_vehicles_in_transport_mvit',\n       'number_of_parked_working_vehicles',\n       'number_of_forms_submitted_for_persons_not_in_motor_vehicles',\n       'number_of_persons_not_in_motor_vehicles_in_transport_mvit',\n       'number_of_persons_in_motor_vehicles_in_transport_mvit',\n       'number_of_forms_submitted_for_persons_in_motor_vehicles', 'county',\n       'city', 'day_of_crash', 'month_of_crash', 'year_of_crash',\n       'day_of_week', 'hour_of_crash', 'minute_of_crash',\n       'national_highway_system', 'land_use', 'land_use_name',\n       'functional_system', 'functional_system_name', 'ownership',\n       'ownership_name', 'route_signing', 'route_signing_name',\n       'trafficway_identifier', 'trafficway_identifier_2', 'milepoint',\n       'latitude', 'longitude', 'special_jurisdiction',\n       'special_jurisdiction_name', 'first_harmful_event',\n       'first_harmful_event_name', 'manner_of_collision',\n       'manner_of_collision_name',\n       'relation_to_junction_within_interchange_area',\n       'relation_to_junction_specific_location',\n       'relation_to_junction_specific_location_name', 'type_of_intersection',\n       'work_zone', 'relation_to_trafficway', 'relation_to_trafficway_name',\n       'light_condition', 'light_condition_name', 'atmospheric_conditions_1',\n       'atmospheric_conditions_1_name', 'atmospheric_conditions_2',\n       'atmospheric_conditions_2_name', 'atmospheric_conditions',\n       'atmospheric_conditions_name', 'school_bus_related',\n       'rail_grade_crossing_identifier', 'hour_of_notification',\n       'minute_of_notification', 'hour_of_arrival_at_scene',\n       'minute_of_arrival_at_scene', 'hour_of_ems_arrival_at_hospital',\n       'minute_of_ems_arrival_at_hospital', 'related_factors_crash_level_1',\n       'related_factors_crash_level_1_name', 'related_factors_crash_level_2',\n       'related_factors_crash_level_2_name', 'related_factors_crash_level_3',\n       'related_factors_crash_level_3_name', 'number_of_fatalities',\n       'number_of_drunk_drivers', 'timestamp_of_crash'],\n      dtype='object')"
          },
          "metadata": {}
        }
      ]
    },
    {
      "metadata": {
        "_cell_guid": "01828b85-515b-4b17-b4e9-ec4fac545158",
        "_uuid": "9e6e7e8d31495735dd39520f157f48bdef27f8ca"
      },
      "cell_type": "markdown",
      "source": "---\n# Keep Going\n[Click here](https://www.kaggle.com/dansbecker/as-with) to learn how *WITH-AS* clauses  can clean up your code and help you construct more complex queries.\n\n# Feedback\nBring any questions or feedback to the [Learn Discussion Forum](kaggle.com/learn-forum).\n\n----\n\n*This tutorial is part of the [SQL Series](https://www.kaggle.com/learn/sql) on Kaggle Learn.*"
    }
  ],
  "metadata": {
    "language_info": {
      "name": "python",
      "version": "3.6.4",
      "mimetype": "text/x-python",
      "codemirror_mode": {
        "name": "ipython",
        "version": 3
      },
      "pygments_lexer": "ipython3",
      "nbconvert_exporter": "python",
      "file_extension": ".py"
    },
    "kernelspec": {
      "display_name": "Python 3",
      "language": "python",
      "name": "python3"
    }
  },
  "nbformat": 4,
  "nbformat_minor": 1
}