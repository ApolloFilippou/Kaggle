{
  "cells": [
    {
      "metadata": {
        "_uuid": "8f2839f25d086af736a60e9eeb907d3b93b6e0e5",
        "_cell_guid": "b1076dfc-b9ad-4769-8c92-a6c4dae69d19"
      },
      "cell_type": "markdown",
      "source": "# Get Started\nFork this notebook by hitting the blue \"Fork Notebook\" button at the top of this page.  \"Forking\" makes a copy that you can edit on your own without changing the original.\n\nAfter forking this notebook, run the code in the following cell."
    },
    {
      "metadata": {
        "_uuid": "10e9310686ffa8666fddf643693d27bf6c2da62f",
        "_cell_guid": "581115e3-6443-4d88-aebc-2b7b64e10312",
        "trusted": true
      },
      "cell_type": "code",
      "source": "# import package with helper functions \nimport bq_helper\n\n# create a helper object for this dataset\nopen_aq = bq_helper.BigQueryHelper(active_project=\"bigquery-public-data\",\n                                   dataset_name=\"openaq\")\n\n# print all the tables in this dataset (there's only one!)\nopen_aq.list_tables()",
      "execution_count": 1,
      "outputs": [
        {
          "output_type": "execute_result",
          "execution_count": 1,
          "data": {
            "text/plain": "['global_air_quality']"
          },
          "metadata": {}
        }
      ]
    },
    {
      "metadata": {
        "_uuid": "40f9f29f2ff5f355747bcd8ddb83bf5beecdb04e",
        "_cell_guid": "6c5a2cf7-e634-49fe-8f66-fec2386128e2"
      },
      "cell_type": "markdown",
      "source": "Then write and run the code to answer the questions below."
    },
    {
      "metadata": {
        "_uuid": "e0c53920e3b893930976a772c17f67f9781087ec",
        "_cell_guid": "00f8161f-9d76-4740-b6b1-d245b00f4587"
      },
      "cell_type": "markdown",
      "source": "# Question\n\n#### 1) Which countries use a unit other than ppm to measure any type of pollution? \n(Hint: to get rows where the value *isn't* something, use \"!=\")"
    },
    {
      "metadata": {
        "_uuid": "d629ff2d2480ee46fbb7e2d37f6b5fab8052498a",
        "_cell_guid": "79c7e3d0-c299-4dcb-8224-4455121ee9b0",
        "trusted": true
      },
      "cell_type": "code",
      "source": "query_unit = \"\"\"SELECT country\n                FROM `bigquery-public-data.openaq.global_air_quality`\n                WHERE unit!='ppm'\n                \"\"\"\nnot_ppm = open_aq.query_to_pandas_safe(query_unit)",
      "execution_count": 3,
      "outputs": [
        {
          "output_type": "execute_result",
          "execution_count": 3,
          "data": {
            "text/plain": "      country\n0          AD\n1          AD\n2          AD\n3          AD\n4          AD\n5          AD\n6          AD\n7          AE\n8          AR\n9          AR\n10         AR\n11         AR\n12         AT\n13         AT\n14         AT\n15         AT\n16         AT\n17         AT\n18         AT\n19         AT\n20         AT\n21         AT\n22         AT\n23         AT\n24         AT\n25         AT\n26         AT\n27         AT\n28         AT\n29         AT\n...       ...\n13254      US\n13255      US\n13256      US\n13257      US\n13258      US\n13259      US\n13260      US\n13261      US\n13262      US\n13263      US\n13264      US\n13265      US\n13266      US\n13267      US\n13268      US\n13269      US\n13270      US\n13271      US\n13272      US\n13273      US\n13274      US\n13275      US\n13276      US\n13277      US\n13278      VN\n13279      VN\n13280      VN\n13281      XK\n13282      ZA\n13283      ZA\n\n[13284 rows x 1 columns]",
            "text/html": "<div>\n<style>\n    .dataframe thead tr:only-child th {\n        text-align: right;\n    }\n\n    .dataframe thead th {\n        text-align: left;\n    }\n\n    .dataframe tbody tr th {\n        vertical-align: top;\n    }\n</style>\n<table border=\"1\" class=\"dataframe\">\n  <thead>\n    <tr style=\"text-align: right;\">\n      <th></th>\n      <th>country</th>\n    </tr>\n  </thead>\n  <tbody>\n    <tr>\n      <th>0</th>\n      <td>AD</td>\n    </tr>\n    <tr>\n      <th>1</th>\n      <td>AD</td>\n    </tr>\n    <tr>\n      <th>2</th>\n      <td>AD</td>\n    </tr>\n    <tr>\n      <th>3</th>\n      <td>AD</td>\n    </tr>\n    <tr>\n      <th>4</th>\n      <td>AD</td>\n    </tr>\n    <tr>\n      <th>5</th>\n      <td>AD</td>\n    </tr>\n    <tr>\n      <th>6</th>\n      <td>AD</td>\n    </tr>\n    <tr>\n      <th>7</th>\n      <td>AE</td>\n    </tr>\n    <tr>\n      <th>8</th>\n      <td>AR</td>\n    </tr>\n    <tr>\n      <th>9</th>\n      <td>AR</td>\n    </tr>\n    <tr>\n      <th>10</th>\n      <td>AR</td>\n    </tr>\n    <tr>\n      <th>11</th>\n      <td>AR</td>\n    </tr>\n    <tr>\n      <th>12</th>\n      <td>AT</td>\n    </tr>\n    <tr>\n      <th>13</th>\n      <td>AT</td>\n    </tr>\n    <tr>\n      <th>14</th>\n      <td>AT</td>\n    </tr>\n    <tr>\n      <th>15</th>\n      <td>AT</td>\n    </tr>\n    <tr>\n      <th>16</th>\n      <td>AT</td>\n    </tr>\n    <tr>\n      <th>17</th>\n      <td>AT</td>\n    </tr>\n    <tr>\n      <th>18</th>\n      <td>AT</td>\n    </tr>\n    <tr>\n      <th>19</th>\n      <td>AT</td>\n    </tr>\n    <tr>\n      <th>20</th>\n      <td>AT</td>\n    </tr>\n    <tr>\n      <th>21</th>\n      <td>AT</td>\n    </tr>\n    <tr>\n      <th>22</th>\n      <td>AT</td>\n    </tr>\n    <tr>\n      <th>23</th>\n      <td>AT</td>\n    </tr>\n    <tr>\n      <th>24</th>\n      <td>AT</td>\n    </tr>\n    <tr>\n      <th>25</th>\n      <td>AT</td>\n    </tr>\n    <tr>\n      <th>26</th>\n      <td>AT</td>\n    </tr>\n    <tr>\n      <th>27</th>\n      <td>AT</td>\n    </tr>\n    <tr>\n      <th>28</th>\n      <td>AT</td>\n    </tr>\n    <tr>\n      <th>29</th>\n      <td>AT</td>\n    </tr>\n    <tr>\n      <th>...</th>\n      <td>...</td>\n    </tr>\n    <tr>\n      <th>13254</th>\n      <td>US</td>\n    </tr>\n    <tr>\n      <th>13255</th>\n      <td>US</td>\n    </tr>\n    <tr>\n      <th>13256</th>\n      <td>US</td>\n    </tr>\n    <tr>\n      <th>13257</th>\n      <td>US</td>\n    </tr>\n    <tr>\n      <th>13258</th>\n      <td>US</td>\n    </tr>\n    <tr>\n      <th>13259</th>\n      <td>US</td>\n    </tr>\n    <tr>\n      <th>13260</th>\n      <td>US</td>\n    </tr>\n    <tr>\n      <th>13261</th>\n      <td>US</td>\n    </tr>\n    <tr>\n      <th>13262</th>\n      <td>US</td>\n    </tr>\n    <tr>\n      <th>13263</th>\n      <td>US</td>\n    </tr>\n    <tr>\n      <th>13264</th>\n      <td>US</td>\n    </tr>\n    <tr>\n      <th>13265</th>\n      <td>US</td>\n    </tr>\n    <tr>\n      <th>13266</th>\n      <td>US</td>\n    </tr>\n    <tr>\n      <th>13267</th>\n      <td>US</td>\n    </tr>\n    <tr>\n      <th>13268</th>\n      <td>US</td>\n    </tr>\n    <tr>\n      <th>13269</th>\n      <td>US</td>\n    </tr>\n    <tr>\n      <th>13270</th>\n      <td>US</td>\n    </tr>\n    <tr>\n      <th>13271</th>\n      <td>US</td>\n    </tr>\n    <tr>\n      <th>13272</th>\n      <td>US</td>\n    </tr>\n    <tr>\n      <th>13273</th>\n      <td>US</td>\n    </tr>\n    <tr>\n      <th>13274</th>\n      <td>US</td>\n    </tr>\n    <tr>\n      <th>13275</th>\n      <td>US</td>\n    </tr>\n    <tr>\n      <th>13276</th>\n      <td>US</td>\n    </tr>\n    <tr>\n      <th>13277</th>\n      <td>US</td>\n    </tr>\n    <tr>\n      <th>13278</th>\n      <td>VN</td>\n    </tr>\n    <tr>\n      <th>13279</th>\n      <td>VN</td>\n    </tr>\n    <tr>\n      <th>13280</th>\n      <td>VN</td>\n    </tr>\n    <tr>\n      <th>13281</th>\n      <td>XK</td>\n    </tr>\n    <tr>\n      <th>13282</th>\n      <td>ZA</td>\n    </tr>\n    <tr>\n      <th>13283</th>\n      <td>ZA</td>\n    </tr>\n  </tbody>\n</table>\n<p>13284 rows × 1 columns</p>\n</div>"
          },
          "metadata": {}
        }
      ]
    },
    {
      "metadata": {
        "_uuid": "a527d39f5e9e31ae5476505249d1136558e97ede",
        "_cell_guid": "f50aa855-5ae4-4dbd-a7f4-1c0940a76e41"
      },
      "cell_type": "markdown",
      "source": "#### 2) Which pollutants have a value of exactly 0?"
    },
    {
      "metadata": {
        "_uuid": "ac2253ac8ff931cf984f4c80f4fee1aafaa71789",
        "_cell_guid": "0bfeb274-f8ed-4710-a6db-e1e6457e78c4",
        "trusted": true
      },
      "cell_type": "code",
      "source": "query_pollutants = \"\"\"SELECT pollutant\n                        FROM `bigquery-public-data.openaq.global_air_quality`\n                        WHERE value=0\n                        \"\"\"\npollutants = open_aq.query_to_pandas_safe(query_pollutants)",
      "execution_count": 5,
      "outputs": [
        {
          "output_type": "execute_result",
          "execution_count": 5,
          "data": {
            "text/plain": "    pollutant\n0          bc\n1          co\n2          co\n3          co\n4          co\n5          co\n6          co\n7          co\n8          co\n9          co\n10         co\n11         co\n12         co\n13         co\n14         co\n15         co\n16         co\n17         co\n18         co\n19         co\n20         co\n21         co\n22         co\n23         co\n24         co\n25         co\n26         co\n27         co\n28         co\n29         co\n..        ...\n881      pm25\n882      pm25\n883      pm25\n884      pm25\n885      pm25\n886      pm25\n887      pm25\n888      pm25\n889      pm25\n890      pm25\n891      pm25\n892      pm25\n893      pm25\n894      pm25\n895      pm25\n896      pm25\n897      pm25\n898      pm25\n899      pm25\n900      pm25\n901      pm25\n902      pm25\n903      pm25\n904      pm25\n905      pm25\n906      pm25\n907      pm25\n908      pm25\n909      pm25\n910      pm25\n\n[911 rows x 1 columns]",
            "text/html": "<div>\n<style>\n    .dataframe thead tr:only-child th {\n        text-align: right;\n    }\n\n    .dataframe thead th {\n        text-align: left;\n    }\n\n    .dataframe tbody tr th {\n        vertical-align: top;\n    }\n</style>\n<table border=\"1\" class=\"dataframe\">\n  <thead>\n    <tr style=\"text-align: right;\">\n      <th></th>\n      <th>pollutant</th>\n    </tr>\n  </thead>\n  <tbody>\n    <tr>\n      <th>0</th>\n      <td>bc</td>\n    </tr>\n    <tr>\n      <th>1</th>\n      <td>co</td>\n    </tr>\n    <tr>\n      <th>2</th>\n      <td>co</td>\n    </tr>\n    <tr>\n      <th>3</th>\n      <td>co</td>\n    </tr>\n    <tr>\n      <th>4</th>\n      <td>co</td>\n    </tr>\n    <tr>\n      <th>5</th>\n      <td>co</td>\n    </tr>\n    <tr>\n      <th>6</th>\n      <td>co</td>\n    </tr>\n    <tr>\n      <th>7</th>\n      <td>co</td>\n    </tr>\n    <tr>\n      <th>8</th>\n      <td>co</td>\n    </tr>\n    <tr>\n      <th>9</th>\n      <td>co</td>\n    </tr>\n    <tr>\n      <th>10</th>\n      <td>co</td>\n    </tr>\n    <tr>\n      <th>11</th>\n      <td>co</td>\n    </tr>\n    <tr>\n      <th>12</th>\n      <td>co</td>\n    </tr>\n    <tr>\n      <th>13</th>\n      <td>co</td>\n    </tr>\n    <tr>\n      <th>14</th>\n      <td>co</td>\n    </tr>\n    <tr>\n      <th>15</th>\n      <td>co</td>\n    </tr>\n    <tr>\n      <th>16</th>\n      <td>co</td>\n    </tr>\n    <tr>\n      <th>17</th>\n      <td>co</td>\n    </tr>\n    <tr>\n      <th>18</th>\n      <td>co</td>\n    </tr>\n    <tr>\n      <th>19</th>\n      <td>co</td>\n    </tr>\n    <tr>\n      <th>20</th>\n      <td>co</td>\n    </tr>\n    <tr>\n      <th>21</th>\n      <td>co</td>\n    </tr>\n    <tr>\n      <th>22</th>\n      <td>co</td>\n    </tr>\n    <tr>\n      <th>23</th>\n      <td>co</td>\n    </tr>\n    <tr>\n      <th>24</th>\n      <td>co</td>\n    </tr>\n    <tr>\n      <th>25</th>\n      <td>co</td>\n    </tr>\n    <tr>\n      <th>26</th>\n      <td>co</td>\n    </tr>\n    <tr>\n      <th>27</th>\n      <td>co</td>\n    </tr>\n    <tr>\n      <th>28</th>\n      <td>co</td>\n    </tr>\n    <tr>\n      <th>29</th>\n      <td>co</td>\n    </tr>\n    <tr>\n      <th>...</th>\n      <td>...</td>\n    </tr>\n    <tr>\n      <th>881</th>\n      <td>pm25</td>\n    </tr>\n    <tr>\n      <th>882</th>\n      <td>pm25</td>\n    </tr>\n    <tr>\n      <th>883</th>\n      <td>pm25</td>\n    </tr>\n    <tr>\n      <th>884</th>\n      <td>pm25</td>\n    </tr>\n    <tr>\n      <th>885</th>\n      <td>pm25</td>\n    </tr>\n    <tr>\n      <th>886</th>\n      <td>pm25</td>\n    </tr>\n    <tr>\n      <th>887</th>\n      <td>pm25</td>\n    </tr>\n    <tr>\n      <th>888</th>\n      <td>pm25</td>\n    </tr>\n    <tr>\n      <th>889</th>\n      <td>pm25</td>\n    </tr>\n    <tr>\n      <th>890</th>\n      <td>pm25</td>\n    </tr>\n    <tr>\n      <th>891</th>\n      <td>pm25</td>\n    </tr>\n    <tr>\n      <th>892</th>\n      <td>pm25</td>\n    </tr>\n    <tr>\n      <th>893</th>\n      <td>pm25</td>\n    </tr>\n    <tr>\n      <th>894</th>\n      <td>pm25</td>\n    </tr>\n    <tr>\n      <th>895</th>\n      <td>pm25</td>\n    </tr>\n    <tr>\n      <th>896</th>\n      <td>pm25</td>\n    </tr>\n    <tr>\n      <th>897</th>\n      <td>pm25</td>\n    </tr>\n    <tr>\n      <th>898</th>\n      <td>pm25</td>\n    </tr>\n    <tr>\n      <th>899</th>\n      <td>pm25</td>\n    </tr>\n    <tr>\n      <th>900</th>\n      <td>pm25</td>\n    </tr>\n    <tr>\n      <th>901</th>\n      <td>pm25</td>\n    </tr>\n    <tr>\n      <th>902</th>\n      <td>pm25</td>\n    </tr>\n    <tr>\n      <th>903</th>\n      <td>pm25</td>\n    </tr>\n    <tr>\n      <th>904</th>\n      <td>pm25</td>\n    </tr>\n    <tr>\n      <th>905</th>\n      <td>pm25</td>\n    </tr>\n    <tr>\n      <th>906</th>\n      <td>pm25</td>\n    </tr>\n    <tr>\n      <th>907</th>\n      <td>pm25</td>\n    </tr>\n    <tr>\n      <th>908</th>\n      <td>pm25</td>\n    </tr>\n    <tr>\n      <th>909</th>\n      <td>pm25</td>\n    </tr>\n    <tr>\n      <th>910</th>\n      <td>pm25</td>\n    </tr>\n  </tbody>\n</table>\n<p>911 rows × 1 columns</p>\n</div>"
          },
          "metadata": {}
        }
      ]
    },
    {
      "metadata": {
        "_uuid": "2601df8b4255ca1087f794e6f39ca04107e93de6",
        "_cell_guid": "3b323b31-ee71-466f-a328-3b6f83598878"
      },
      "cell_type": "markdown",
      "source": "# Keep Going\nAfter finishing this exercise, click [here](https://www.kaggle.com/dansbecker/group-by-having-count/).  You will learn about the **GROUP BY** command and its extensions.  This is especially valuable in large datasets like what you find in BigQuery.\n\n# Help and Feedback \nBring any comments or questions to the [Learn Discussion Forum](https://www.kaggle.com/learn-forum).\n\nIf you want comments or help on your code, make it \"public\" first using the \"Settings\" tab on this page.\n\n---\n\n*This tutorial is part of the [SQL Series](https://www.kaggle.com/learn/sql) on Kaggle Learn.*"
    }
  ],
  "metadata": {
    "kernelspec": {
      "display_name": "Python 3",
      "language": "python",
      "name": "python3"
    },
    "language_info": {
      "name": "python",
      "version": "3.6.4",
      "mimetype": "text/x-python",
      "codemirror_mode": {
        "name": "ipython",
        "version": 3
      },
      "pygments_lexer": "ipython3",
      "nbconvert_exporter": "python",
      "file_extension": ".py"
    }
  },
  "nbformat": 4,
  "nbformat_minor": 1
}