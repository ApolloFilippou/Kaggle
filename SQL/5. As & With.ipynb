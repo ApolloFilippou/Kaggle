{
  "cells": [
    {
      "metadata": {
        "_cell_guid": "c00aa938-286a-461b-8fbd-3486b3188d38",
        "_uuid": "118088bc1f65d8030a50882edcdca039a70d6b4a"
      },
      "cell_type": "markdown",
      "source": "# Get Started\n\nAfter forking this notebook, run the code in the following cell:"
    },
    {
      "metadata": {
        "collapsed": true,
        "_cell_guid": "fafbc62b-2cf1-4d94-919b-f236e5fad3b2",
        "_uuid": "424a5ab971bbe2d7aec8fb83d76307d16095ad41",
        "trusted": true
      },
      "cell_type": "code",
      "source": "# import package with helper functions \nimport bq_helper\n\n# create a helper object for this dataset\nbitcoin_blockchain = bq_helper.BigQueryHelper(active_project=\"bigquery-public-data\",\n                                              dataset_name=\"bitcoin_blockchain\")",
      "execution_count": 1,
      "outputs": []
    },
    {
      "metadata": {
        "_cell_guid": "b1076dfc-b9ad-4769-8c92-a6c4dae69d19",
        "_uuid": "8f2839f25d086af736a60e9eeb907d3b93b6e0e5"
      },
      "cell_type": "markdown",
      "source": "Then write the code to answer the questions below.\n\n#### Note\nThis dataset is bigger than the ones we've used previously, so your queries will be more than 1 Gigabyte. You can still run them by setting the \"max_gb_scanned\" argument in the `query_to_pandas_safe()` function to be large enough to run your query, or by using the `query_to_pandas()` function instead.\n\n## Questions\n#### 1) How many Bitcoin transactions were made each day in 2017?\n* You can use the \"timestamp\" column from the \"transactions\" table to answer this question. You can go back to the [order-by tutorial](https://www.kaggle.com/dansbecker/order-by) for more information on timestamps."
    },
    {
      "metadata": {
        "_cell_guid": "79c7e3d0-c299-4dcb-8224-4455121ee9b0",
        "_uuid": "d629ff2d2480ee46fbb7e2d37f6b5fab8052498a",
        "trusted": true
      },
      "cell_type": "code",
      "source": "query_day = \"\"\"WITH time AS\n            (\n            SELECT TIMESTAMP_MILLIS(timestamp) AS trans_time,\n                transaction_id\n            FROM `bigquery-public-data.bitcoin_blockchain.transactions`\n            )\n            SELECT COUNT(transaction_id) AS transactions,\n                EXTRACT(DAY from trans_time) as day\n            FROM time\n            GROUP BY 2\n            ORDER BY 2\"\"\"\ndaily = bitcoin_blockchain.query_to_pandas(query_day)",
      "execution_count": 3,
      "outputs": [
        {
          "output_type": "execute_result",
          "execution_count": 3,
          "data": {
            "text/plain": "    transactions  day\n0       10565904    1\n1       10829071    2\n2       10852871    3\n3       10873627    4\n4       11004176    5\n5       11042501    6\n6       11146225    7\n7       10910654    8\n8       10826264    9\n9       10687153   10\n10      10653916   11\n11      10496454   12\n12      10744440   13\n13      10930655   14\n14      10933017   15\n15      10654193   16\n16      10839833   17\n17      10781694   18\n18      10599870   19\n19      10693871   20\n20      10915593   21\n21      10662555   22\n22      10664579   23\n23      10448783   24\n24      10360818   25\n25      10362126   26\n26      10515456   27\n27      10671829   28\n28      10234749   29\n29       9868372   30\n30       5958282   31",
            "text/html": "<div>\n<style scoped>\n    .dataframe tbody tr th:only-of-type {\n        vertical-align: middle;\n    }\n\n    .dataframe tbody tr th {\n        vertical-align: top;\n    }\n\n    .dataframe thead th {\n        text-align: right;\n    }\n</style>\n<table border=\"1\" class=\"dataframe\">\n  <thead>\n    <tr style=\"text-align: right;\">\n      <th></th>\n      <th>transactions</th>\n      <th>day</th>\n    </tr>\n  </thead>\n  <tbody>\n    <tr>\n      <th>0</th>\n      <td>10565904</td>\n      <td>1</td>\n    </tr>\n    <tr>\n      <th>1</th>\n      <td>10829071</td>\n      <td>2</td>\n    </tr>\n    <tr>\n      <th>2</th>\n      <td>10852871</td>\n      <td>3</td>\n    </tr>\n    <tr>\n      <th>3</th>\n      <td>10873627</td>\n      <td>4</td>\n    </tr>\n    <tr>\n      <th>4</th>\n      <td>11004176</td>\n      <td>5</td>\n    </tr>\n    <tr>\n      <th>5</th>\n      <td>11042501</td>\n      <td>6</td>\n    </tr>\n    <tr>\n      <th>6</th>\n      <td>11146225</td>\n      <td>7</td>\n    </tr>\n    <tr>\n      <th>7</th>\n      <td>10910654</td>\n      <td>8</td>\n    </tr>\n    <tr>\n      <th>8</th>\n      <td>10826264</td>\n      <td>9</td>\n    </tr>\n    <tr>\n      <th>9</th>\n      <td>10687153</td>\n      <td>10</td>\n    </tr>\n    <tr>\n      <th>10</th>\n      <td>10653916</td>\n      <td>11</td>\n    </tr>\n    <tr>\n      <th>11</th>\n      <td>10496454</td>\n      <td>12</td>\n    </tr>\n    <tr>\n      <th>12</th>\n      <td>10744440</td>\n      <td>13</td>\n    </tr>\n    <tr>\n      <th>13</th>\n      <td>10930655</td>\n      <td>14</td>\n    </tr>\n    <tr>\n      <th>14</th>\n      <td>10933017</td>\n      <td>15</td>\n    </tr>\n    <tr>\n      <th>15</th>\n      <td>10654193</td>\n      <td>16</td>\n    </tr>\n    <tr>\n      <th>16</th>\n      <td>10839833</td>\n      <td>17</td>\n    </tr>\n    <tr>\n      <th>17</th>\n      <td>10781694</td>\n      <td>18</td>\n    </tr>\n    <tr>\n      <th>18</th>\n      <td>10599870</td>\n      <td>19</td>\n    </tr>\n    <tr>\n      <th>19</th>\n      <td>10693871</td>\n      <td>20</td>\n    </tr>\n    <tr>\n      <th>20</th>\n      <td>10915593</td>\n      <td>21</td>\n    </tr>\n    <tr>\n      <th>21</th>\n      <td>10662555</td>\n      <td>22</td>\n    </tr>\n    <tr>\n      <th>22</th>\n      <td>10664579</td>\n      <td>23</td>\n    </tr>\n    <tr>\n      <th>23</th>\n      <td>10448783</td>\n      <td>24</td>\n    </tr>\n    <tr>\n      <th>24</th>\n      <td>10360818</td>\n      <td>25</td>\n    </tr>\n    <tr>\n      <th>25</th>\n      <td>10362126</td>\n      <td>26</td>\n    </tr>\n    <tr>\n      <th>26</th>\n      <td>10515456</td>\n      <td>27</td>\n    </tr>\n    <tr>\n      <th>27</th>\n      <td>10671829</td>\n      <td>28</td>\n    </tr>\n    <tr>\n      <th>28</th>\n      <td>10234749</td>\n      <td>29</td>\n    </tr>\n    <tr>\n      <th>29</th>\n      <td>9868372</td>\n      <td>30</td>\n    </tr>\n    <tr>\n      <th>30</th>\n      <td>5958282</td>\n      <td>31</td>\n    </tr>\n  </tbody>\n</table>\n</div>"
          },
          "metadata": {}
        }
      ]
    },
    {
      "metadata": {
        "_cell_guid": "c6fc9554-1290-4940-9c03-2929eb17613e",
        "_uuid": "6f5acc3073bb99100b5e1fd8f1111b8a75c19777"
      },
      "cell_type": "markdown",
      "source": "\n#### 2) How many transactions are associated with each merkle root?\n* You can use the \"merkle_root\" and \"transaction_id\" columns in the \"transactions\" table to answer this question. "
    },
    {
      "metadata": {
        "_cell_guid": "18629270-096f-412b-a3de-c863388d9f8f",
        "_uuid": "959b10f407dbd9f80ab1b5d33ed9c8eaafa6b30c",
        "trusted": true
      },
      "cell_type": "code",
      "source": "query_merkle_root = \"\"\"SELECT merkle_root, COUNT(transaction_id) AS transactions\n                    FROM `bigquery-public-data.bitcoin_blockchain.transactions`\n                    GROUP BY 1\n                    ORDER BY 1 DESC\"\"\"\nmerkle = bitcoin_blockchain.query_to_pandas(query_merkle_root)",
      "execution_count": 9,
      "outputs": [
        {
          "output_type": "execute_result",
          "execution_count": 9,
          "data": {
            "text/plain": "                                              merkle_root  transactions\n0       fffffb5dfc74398b477df3a6e1cd4887234b829c5f0a65...             1\n1       ffffd90b6583ee3b428f05dc1b4749a98459f3e3401385...           403\n2       ffffaeff4331e9611d98a60347d0e3d01ba26622d4dd4e...             1\n3       ffff464382d7ee6fdc8a59a34ffb18811f674c8a4214ff...           781\n4       ffff32e6466efe1ac8495a62b17743cc5119cc9597c651...           289\n5       ffff3281e25e08c36b6b936f7c430cc0af02f08786b2e7...          1569\n6       ffff28c8a72e2d20e5fe40c7bb19698c42de514bbcf342...            33\n7       ffff1fbc3b071e4b62f0579ed84084e12ac2464fa85389...             1\n8       ffff191001b8059c119538883840a35b59a4fe743a8016...           224\n9       fffee65cbfafc8fbdc232d42b1df02c1d402b1e77cd9e7...           922\n10      fffedd5058e795dc48c62f93dd3118c8e6b40e0aacab7f...          1603\n11      fffecf557b66ecff533a8c9db4abe67ca11bd62143d59d...           355\n12      fffeb38cd9d96f043a25ea18ecc12c8b59169cd39b4250...             1\n13      fffe9d68d14187cb2fca5424224873bce680f1d7ece308...           822\n14      fffe963ce0c7c9bccd0c39eea779ebbdd190f75337b215...           329\n15      fffe82f0a521487d068855f36b8d1c394e7e45d0f30e8d...             3\n16      fffe7a5f49675e60b6636bb97a7d7fc9a5d73a8ed77fb8...           326\n17      fffe7911b6bc3a265cccae4ee81e7130984fcd11dedb98...             1\n18      fffe6927ec1da12affa8ff55fcaa0b390fadc8840692a8...           166\n19      fffe33a8b5e600b03a85b58d827267e421b0798e5e11ba...          1600\n20      fffde33fc7c5b51cd891609080a2c4de1061fb064086bb...             2\n21      fffdc4d8dbb9bd179e1a1960979f5d884cdb26969ab8dd...             2\n22      fffdc275e46a8886ddbfaf15640ea74865a19996df8b40...            63\n23      fffdb639a023a4edb64c365176f0761293421cec238f70...           593\n24      fffd935b717fe86b1128d818222c7fa7a93bb633ed281e...           177\n25      fffd863c8290efed1cfa334ca9cce0cf42bcaff3d9d154...          2387\n26      fffd566d79e07ed691b824a3352dd6fb1c3bbce15c5187...          2424\n27      fffd45be76b7d0cbff218f570ddb254d1e3395ebc40f4f...           364\n28      fffd11bfd4bdd62fb45e756ef02aa4a5264f7f9ee92d43...           647\n29      fffd0679eeac5f067aeec6c6ae098a1f1f4fdb5b1dd6aa...           911\n...                                                   ...           ...\n530927  00042b5371ab34e507c8236f75d0e061cd54751eeff676...          2269\n530928  00042331589227dbe7bedb7a788e740ad926e171b37524...           752\n530929  0003bc05bed70d4ab9571694908110c6ccfefd6798f901...           113\n530930  0003967aebaa322bdbbf37c071bd7b5e1eca432eecfafd...            39\n530931  00034c2f33fa84410410a6ee140b59ca2969d644e19cb4...          2263\n530932  00033786bd18d543decb5351534a44e4b8fa24d2e200ca...            81\n530933  00032a7cca9a76138eb704e2671f91b8daa0560baa90bc...           667\n530934  00031fc3de90ab1a423934936009c2515c3cf0490aaf49...          1267\n530935  0002d0c7a0aaee2d45ab22b28fb06e2157365640ea8c24...            28\n530936  0002cd0a0642ed592a538c276fcd3bd1b69c91e44d078c...          2781\n530937  00029ff99e19cca9594283bfaaf43736ab47654ed76a0f...             1\n530938  000295fe0ca3bddec8809f379b878ac66bda107e73e9a0...          1243\n530939  000291fa3fbb8f2b9ef059157d7ffa88a4410832f8a55d...             7\n530940  000211c85ad4f3a219cb0085e8e84cf90bd0fa70908b80...           333\n530941  000206ef1427dde93b52601283f0bee0a24e889ea304b0...           289\n530942  0002013ad604f54b8c367d79837ba45f6a877522c9d4d3...            20\n530943  0001f561aaae23a6aa61fc1101e6fe0441b53ae721bb75...           335\n530944  0001f40610f8faf975bc6ff44f904e69e90c6a52ade161...             3\n530945  0001eea5dae8edbc7a937d18a80983737a319605792336...            22\n530946  0001c915bed4a48aa0b88fb0e5380f69b4ef3f69c3896d...          1189\n530947  0001874f11e0345f008d151df6ee69f933b833572263ab...             1\n530948  00016b282c4b93ab64f4e292539d6f481b083848108914...           145\n530949  00016518977d8ad874c7e2e6f386b5ad47894874855d9a...           112\n530950  0001244b37a1a29c08474b58c0902b7145207eb66132e1...          1942\n530951  0000fe7f5c89aa1bb4a9a49a0be1fdf770b19cce3e032b...           218\n530952  0000b25729c2ee33b86c1df4c2bb938188b808210f49e0...            44\n530953  000060c89f948cbead625da2da954b218f4207b1dbfd67...           146\n530954  000046ca59e1dcb0105e7550ba5cffb1441c0272eb6076...           455\n530955  000045f372a9865f7ad81c6abe2bb4d4b55f55111abb44...             1\n530956  00003d7f2ce31fde801169c6ad44996c3c4a5047c931bb...          2437\n\n[530957 rows x 2 columns]",
            "text/html": "<div>\n<style scoped>\n    .dataframe tbody tr th:only-of-type {\n        vertical-align: middle;\n    }\n\n    .dataframe tbody tr th {\n        vertical-align: top;\n    }\n\n    .dataframe thead th {\n        text-align: right;\n    }\n</style>\n<table border=\"1\" class=\"dataframe\">\n  <thead>\n    <tr style=\"text-align: right;\">\n      <th></th>\n      <th>merkle_root</th>\n      <th>transactions</th>\n    </tr>\n  </thead>\n  <tbody>\n    <tr>\n      <th>0</th>\n      <td>fffffb5dfc74398b477df3a6e1cd4887234b829c5f0a65...</td>\n      <td>1</td>\n    </tr>\n    <tr>\n      <th>1</th>\n      <td>ffffd90b6583ee3b428f05dc1b4749a98459f3e3401385...</td>\n      <td>403</td>\n    </tr>\n    <tr>\n      <th>2</th>\n      <td>ffffaeff4331e9611d98a60347d0e3d01ba26622d4dd4e...</td>\n      <td>1</td>\n    </tr>\n    <tr>\n      <th>3</th>\n      <td>ffff464382d7ee6fdc8a59a34ffb18811f674c8a4214ff...</td>\n      <td>781</td>\n    </tr>\n    <tr>\n      <th>4</th>\n      <td>ffff32e6466efe1ac8495a62b17743cc5119cc9597c651...</td>\n      <td>289</td>\n    </tr>\n    <tr>\n      <th>5</th>\n      <td>ffff3281e25e08c36b6b936f7c430cc0af02f08786b2e7...</td>\n      <td>1569</td>\n    </tr>\n    <tr>\n      <th>6</th>\n      <td>ffff28c8a72e2d20e5fe40c7bb19698c42de514bbcf342...</td>\n      <td>33</td>\n    </tr>\n    <tr>\n      <th>7</th>\n      <td>ffff1fbc3b071e4b62f0579ed84084e12ac2464fa85389...</td>\n      <td>1</td>\n    </tr>\n    <tr>\n      <th>8</th>\n      <td>ffff191001b8059c119538883840a35b59a4fe743a8016...</td>\n      <td>224</td>\n    </tr>\n    <tr>\n      <th>9</th>\n      <td>fffee65cbfafc8fbdc232d42b1df02c1d402b1e77cd9e7...</td>\n      <td>922</td>\n    </tr>\n    <tr>\n      <th>10</th>\n      <td>fffedd5058e795dc48c62f93dd3118c8e6b40e0aacab7f...</td>\n      <td>1603</td>\n    </tr>\n    <tr>\n      <th>11</th>\n      <td>fffecf557b66ecff533a8c9db4abe67ca11bd62143d59d...</td>\n      <td>355</td>\n    </tr>\n    <tr>\n      <th>12</th>\n      <td>fffeb38cd9d96f043a25ea18ecc12c8b59169cd39b4250...</td>\n      <td>1</td>\n    </tr>\n    <tr>\n      <th>13</th>\n      <td>fffe9d68d14187cb2fca5424224873bce680f1d7ece308...</td>\n      <td>822</td>\n    </tr>\n    <tr>\n      <th>14</th>\n      <td>fffe963ce0c7c9bccd0c39eea779ebbdd190f75337b215...</td>\n      <td>329</td>\n    </tr>\n    <tr>\n      <th>15</th>\n      <td>fffe82f0a521487d068855f36b8d1c394e7e45d0f30e8d...</td>\n      <td>3</td>\n    </tr>\n    <tr>\n      <th>16</th>\n      <td>fffe7a5f49675e60b6636bb97a7d7fc9a5d73a8ed77fb8...</td>\n      <td>326</td>\n    </tr>\n    <tr>\n      <th>17</th>\n      <td>fffe7911b6bc3a265cccae4ee81e7130984fcd11dedb98...</td>\n      <td>1</td>\n    </tr>\n    <tr>\n      <th>18</th>\n      <td>fffe6927ec1da12affa8ff55fcaa0b390fadc8840692a8...</td>\n      <td>166</td>\n    </tr>\n    <tr>\n      <th>19</th>\n      <td>fffe33a8b5e600b03a85b58d827267e421b0798e5e11ba...</td>\n      <td>1600</td>\n    </tr>\n    <tr>\n      <th>20</th>\n      <td>fffde33fc7c5b51cd891609080a2c4de1061fb064086bb...</td>\n      <td>2</td>\n    </tr>\n    <tr>\n      <th>21</th>\n      <td>fffdc4d8dbb9bd179e1a1960979f5d884cdb26969ab8dd...</td>\n      <td>2</td>\n    </tr>\n    <tr>\n      <th>22</th>\n      <td>fffdc275e46a8886ddbfaf15640ea74865a19996df8b40...</td>\n      <td>63</td>\n    </tr>\n    <tr>\n      <th>23</th>\n      <td>fffdb639a023a4edb64c365176f0761293421cec238f70...</td>\n      <td>593</td>\n    </tr>\n    <tr>\n      <th>24</th>\n      <td>fffd935b717fe86b1128d818222c7fa7a93bb633ed281e...</td>\n      <td>177</td>\n    </tr>\n    <tr>\n      <th>25</th>\n      <td>fffd863c8290efed1cfa334ca9cce0cf42bcaff3d9d154...</td>\n      <td>2387</td>\n    </tr>\n    <tr>\n      <th>26</th>\n      <td>fffd566d79e07ed691b824a3352dd6fb1c3bbce15c5187...</td>\n      <td>2424</td>\n    </tr>\n    <tr>\n      <th>27</th>\n      <td>fffd45be76b7d0cbff218f570ddb254d1e3395ebc40f4f...</td>\n      <td>364</td>\n    </tr>\n    <tr>\n      <th>28</th>\n      <td>fffd11bfd4bdd62fb45e756ef02aa4a5264f7f9ee92d43...</td>\n      <td>647</td>\n    </tr>\n    <tr>\n      <th>29</th>\n      <td>fffd0679eeac5f067aeec6c6ae098a1f1f4fdb5b1dd6aa...</td>\n      <td>911</td>\n    </tr>\n    <tr>\n      <th>...</th>\n      <td>...</td>\n      <td>...</td>\n    </tr>\n    <tr>\n      <th>530927</th>\n      <td>00042b5371ab34e507c8236f75d0e061cd54751eeff676...</td>\n      <td>2269</td>\n    </tr>\n    <tr>\n      <th>530928</th>\n      <td>00042331589227dbe7bedb7a788e740ad926e171b37524...</td>\n      <td>752</td>\n    </tr>\n    <tr>\n      <th>530929</th>\n      <td>0003bc05bed70d4ab9571694908110c6ccfefd6798f901...</td>\n      <td>113</td>\n    </tr>\n    <tr>\n      <th>530930</th>\n      <td>0003967aebaa322bdbbf37c071bd7b5e1eca432eecfafd...</td>\n      <td>39</td>\n    </tr>\n    <tr>\n      <th>530931</th>\n      <td>00034c2f33fa84410410a6ee140b59ca2969d644e19cb4...</td>\n      <td>2263</td>\n    </tr>\n    <tr>\n      <th>530932</th>\n      <td>00033786bd18d543decb5351534a44e4b8fa24d2e200ca...</td>\n      <td>81</td>\n    </tr>\n    <tr>\n      <th>530933</th>\n      <td>00032a7cca9a76138eb704e2671f91b8daa0560baa90bc...</td>\n      <td>667</td>\n    </tr>\n    <tr>\n      <th>530934</th>\n      <td>00031fc3de90ab1a423934936009c2515c3cf0490aaf49...</td>\n      <td>1267</td>\n    </tr>\n    <tr>\n      <th>530935</th>\n      <td>0002d0c7a0aaee2d45ab22b28fb06e2157365640ea8c24...</td>\n      <td>28</td>\n    </tr>\n    <tr>\n      <th>530936</th>\n      <td>0002cd0a0642ed592a538c276fcd3bd1b69c91e44d078c...</td>\n      <td>2781</td>\n    </tr>\n    <tr>\n      <th>530937</th>\n      <td>00029ff99e19cca9594283bfaaf43736ab47654ed76a0f...</td>\n      <td>1</td>\n    </tr>\n    <tr>\n      <th>530938</th>\n      <td>000295fe0ca3bddec8809f379b878ac66bda107e73e9a0...</td>\n      <td>1243</td>\n    </tr>\n    <tr>\n      <th>530939</th>\n      <td>000291fa3fbb8f2b9ef059157d7ffa88a4410832f8a55d...</td>\n      <td>7</td>\n    </tr>\n    <tr>\n      <th>530940</th>\n      <td>000211c85ad4f3a219cb0085e8e84cf90bd0fa70908b80...</td>\n      <td>333</td>\n    </tr>\n    <tr>\n      <th>530941</th>\n      <td>000206ef1427dde93b52601283f0bee0a24e889ea304b0...</td>\n      <td>289</td>\n    </tr>\n    <tr>\n      <th>530942</th>\n      <td>0002013ad604f54b8c367d79837ba45f6a877522c9d4d3...</td>\n      <td>20</td>\n    </tr>\n    <tr>\n      <th>530943</th>\n      <td>0001f561aaae23a6aa61fc1101e6fe0441b53ae721bb75...</td>\n      <td>335</td>\n    </tr>\n    <tr>\n      <th>530944</th>\n      <td>0001f40610f8faf975bc6ff44f904e69e90c6a52ade161...</td>\n      <td>3</td>\n    </tr>\n    <tr>\n      <th>530945</th>\n      <td>0001eea5dae8edbc7a937d18a80983737a319605792336...</td>\n      <td>22</td>\n    </tr>\n    <tr>\n      <th>530946</th>\n      <td>0001c915bed4a48aa0b88fb0e5380f69b4ef3f69c3896d...</td>\n      <td>1189</td>\n    </tr>\n    <tr>\n      <th>530947</th>\n      <td>0001874f11e0345f008d151df6ee69f933b833572263ab...</td>\n      <td>1</td>\n    </tr>\n    <tr>\n      <th>530948</th>\n      <td>00016b282c4b93ab64f4e292539d6f481b083848108914...</td>\n      <td>145</td>\n    </tr>\n    <tr>\n      <th>530949</th>\n      <td>00016518977d8ad874c7e2e6f386b5ad47894874855d9a...</td>\n      <td>112</td>\n    </tr>\n    <tr>\n      <th>530950</th>\n      <td>0001244b37a1a29c08474b58c0902b7145207eb66132e1...</td>\n      <td>1942</td>\n    </tr>\n    <tr>\n      <th>530951</th>\n      <td>0000fe7f5c89aa1bb4a9a49a0be1fdf770b19cce3e032b...</td>\n      <td>218</td>\n    </tr>\n    <tr>\n      <th>530952</th>\n      <td>0000b25729c2ee33b86c1df4c2bb938188b808210f49e0...</td>\n      <td>44</td>\n    </tr>\n    <tr>\n      <th>530953</th>\n      <td>000060c89f948cbead625da2da954b218f4207b1dbfd67...</td>\n      <td>146</td>\n    </tr>\n    <tr>\n      <th>530954</th>\n      <td>000046ca59e1dcb0105e7550ba5cffb1441c0272eb6076...</td>\n      <td>455</td>\n    </tr>\n    <tr>\n      <th>530955</th>\n      <td>000045f372a9865f7ad81c6abe2bb4d4b55f55111abb44...</td>\n      <td>1</td>\n    </tr>\n    <tr>\n      <th>530956</th>\n      <td>00003d7f2ce31fde801169c6ad44996c3c4a5047c931bb...</td>\n      <td>2437</td>\n    </tr>\n  </tbody>\n</table>\n<p>530957 rows × 2 columns</p>\n</div>"
          },
          "metadata": {}
        }
      ]
    },
    {
      "metadata": {
        "_cell_guid": "5a6f5219-6a0c-4446-8bd6-7f2a1772332b",
        "_uuid": "fa432e43e8dec711fad0b8b7af37f2e4db1a3079"
      },
      "cell_type": "markdown",
      "source": "---\n# Keep Going\n[Click here](https://www.kaggle.com/dansbecker/joining-data) to learn how to combine multiple data sources with the JOIN command.\n\n# Feedback\nBring any questions or feedback to the [Learn Discussion Forum](kaggle.com/learn-forum).\n\n----\n\n*This tutorial is part of the [SQL Series](https://www.kaggle.com/learn/sql) on Kaggle Learn.*"
    }
  ],
  "metadata": {
    "kernelspec": {
      "display_name": "Python 3",
      "language": "python",
      "name": "python3"
    },
    "language_info": {
      "name": "python",
      "version": "3.6.4",
      "mimetype": "text/x-python",
      "codemirror_mode": {
        "name": "ipython",
        "version": 3
      },
      "pygments_lexer": "ipython3",
      "nbconvert_exporter": "python",
      "file_extension": ".py"
    }
  },
  "nbformat": 4,
  "nbformat_minor": 1
}